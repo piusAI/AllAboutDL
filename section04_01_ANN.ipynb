{
  "nbformat": 4,
  "nbformat_minor": 0,
  "metadata": {
    "colab": {
      "provenance": [],
      "gpuType": "T4",
      "toc_visible": true,
      "include_colab_link": true
    },
    "kernelspec": {
      "name": "python3",
      "display_name": "Python 3"
    },
    "accelerator": "GPU"
  },
  "cells": [
    {
      "cell_type": "markdown",
      "metadata": {
        "id": "view-in-github",
        "colab_type": "text"
      },
      "source": [
        "<a href=\"https://colab.research.google.com/github/piusAI/AllAboutDL/blob/main/section04_01_ANN.ipynb\" target=\"_parent\"><img src=\"https://colab.research.google.com/assets/colab-badge.svg\" alt=\"Open In Colab\"/></a>"
      ]
    },
    {
      "cell_type": "markdown",
      "metadata": {
        "id": "lP6JLo1tGNBg"
      },
      "source": [
        "# Artificial Neural Network"
      ]
    },
    {
      "cell_type": "markdown",
      "metadata": {
        "id": "gWZyYmS_UE_L"
      },
      "source": [
        "### Importing the libraries"
      ]
    },
    {
      "cell_type": "code",
      "source": [
        "import numpy as np\n",
        "import pandas as pd\n",
        "import tensorflow as tf"
      ],
      "metadata": {
        "id": "jUx_D1YXj0g9"
      },
      "execution_count": 3,
      "outputs": []
    },
    {
      "cell_type": "code",
      "source": [
        "tf.__version__"
      ],
      "metadata": {
        "id": "7a1WyL1qkGp8",
        "outputId": "8298a120-6000-4ed4-9357-62be0c49a945",
        "colab": {
          "base_uri": "https://localhost:8080/",
          "height": 36
        }
      },
      "execution_count": 4,
      "outputs": [
        {
          "output_type": "execute_result",
          "data": {
            "text/plain": [
              "'2.18.0'"
            ],
            "application/vnd.google.colaboratory.intrinsic+json": {
              "type": "string"
            }
          },
          "metadata": {},
          "execution_count": 4
        }
      ]
    },
    {
      "cell_type": "markdown",
      "metadata": {
        "id": "1E0Q3aoKUCRX"
      },
      "source": [
        "## Part 1 - Data Preprocessing"
      ]
    },
    {
      "cell_type": "markdown",
      "metadata": {
        "id": "cKWAkFVGUU0Z"
      },
      "source": [
        "### Importing the dataset"
      ]
    },
    {
      "cell_type": "code",
      "source": [
        "dataset = pd.read_csv('Churn_Modelling.csv')\n",
        "X = dataset.iloc[:, 3:-1].values\n",
        "y = dataset.iloc[:, -1].values\n"
      ],
      "metadata": {
        "id": "RFfcZkLPoHnm"
      },
      "execution_count": 5,
      "outputs": []
    },
    {
      "cell_type": "markdown",
      "source": [
        ".iloc :  Extract entire data frame"
      ],
      "metadata": {
        "id": "7ckqqZMAya0-"
      }
    },
    {
      "cell_type": "code",
      "source": [
        "print(type(dataset.iloc[:,3:-1]))"
      ],
      "metadata": {
        "id": "OpIl51Vb0VMd",
        "outputId": "ecce4e99-f06e-4218-8645-6814a98857ca",
        "colab": {
          "base_uri": "https://localhost:8080/"
        }
      },
      "execution_count": 6,
      "outputs": [
        {
          "output_type": "stream",
          "name": "stdout",
          "text": [
            "<class 'pandas.core.frame.DataFrame'>\n"
          ]
        }
      ]
    },
    {
      "cell_type": "markdown",
      "source": [
        ".values를 잡아주지 않으면 그냥 Pandas.dataFrame이 나옴\n",
        "\n",
        "Pandas DataFrame : row-column으로의 table Data"
      ],
      "metadata": {
        "id": "DTiFXI6P0Wik"
      }
    },
    {
      "cell_type": "code",
      "source": [
        "print(\"Feature:\\n\", X)\n",
        "\n",
        "print(\"\\n Leave Parm: \\n\", y)"
      ],
      "metadata": {
        "id": "oyO9QlGryObR",
        "outputId": "f93ca577-e51d-433a-a1a6-e2ad441259d7",
        "colab": {
          "base_uri": "https://localhost:8080/"
        }
      },
      "execution_count": 7,
      "outputs": [
        {
          "output_type": "stream",
          "name": "stdout",
          "text": [
            "Feature:\n",
            " [[619 'France' 'Female' ... 1 1 101348.88]\n",
            " [608 'Spain' 'Female' ... 0 1 112542.58]\n",
            " [502 'France' 'Female' ... 1 0 113931.57]\n",
            " ...\n",
            " [709 'France' 'Female' ... 0 1 42085.58]\n",
            " [772 'Germany' 'Male' ... 1 0 92888.52]\n",
            " [792 'France' 'Female' ... 1 0 38190.78]]\n",
            "\n",
            " Leave Parm: \n",
            " [1 0 1 ... 1 1 0]\n"
          ]
        }
      ]
    },
    {
      "cell_type": "markdown",
      "source": [
        "Label = Leave Param을 예측하기 위한 Classification\n",
        "\n",
        "고객이 빠져나가는지 확인하기 위해!"
      ],
      "metadata": {
        "id": "nfWfhUMg3bCH"
      }
    },
    {
      "cell_type": "markdown",
      "metadata": {
        "id": "N6bQ0UgSU-NJ"
      },
      "source": [
        "### Encoding categorical data"
      ]
    },
    {
      "cell_type": "markdown",
      "metadata": {
        "id": "le5MJreAbW52"
      },
      "source": [
        "Label Encoding the \"Gender\" column"
      ]
    },
    {
      "cell_type": "code",
      "source": [
        "from sklearn.preprocessing import LabelEncoder\n",
        "le = LabelEncoder()\n",
        "X[:,2] = le.fit_transform(X[:,2]) # Exchange Female:0, Male:1"
      ],
      "metadata": {
        "id": "0gUOmjFOIMFe"
      },
      "execution_count": 8,
      "outputs": []
    },
    {
      "cell_type": "markdown",
      "source": [
        "LabelEncoder\n",
        "\n",
        "Male, Female과 같은 string=> int"
      ],
      "metadata": {
        "id": "S98D2a6I6Xc6"
      }
    },
    {
      "cell_type": "markdown",
      "source": [
        "| 메서드               | 하는 일                                                            | 예시                              |\n",
        "| ----------------- | --------------------------------------------------------------- | ------------------------------- |\n",
        "| `fit()`           | 데이터에서 변환 기준을 **학습**  | `['Male', 'Female']` → 매핑 기억만 함 |\n",
        "| `transform()`     | **이미 학습한 기준으로 변환만 수행**                                          | `['Male', 'Female']` → `[1, 0]` |\n",
        "| `fit_transform()` | 위 두 과정을 **한 번에 처리** (학습 + 변환)                                   | `['Male', 'Female']` → `[1, 0]` |\n",
        "\n",
        "-> fit은 그냥 string -> int이상의 의미를 가짐.\n",
        "\n",
        "알아서 어떤 기준을 갖고 기계가 스스로 결정!"
      ],
      "metadata": {
        "id": "Jap1pZf27uuy"
      }
    },
    {
      "cell_type": "code",
      "source": [
        "print(X[:,2])"
      ],
      "metadata": {
        "id": "NSH3iK3T6qbb",
        "outputId": "b8d13114-ed94-49cb-b78f-a2508dd2c172",
        "colab": {
          "base_uri": "https://localhost:8080/"
        }
      },
      "execution_count": 9,
      "outputs": [
        {
          "output_type": "stream",
          "name": "stdout",
          "text": [
            "[0 0 0 ... 0 1 0]\n"
          ]
        }
      ]
    },
    {
      "cell_type": "code",
      "source": [
        "print(X)"
      ],
      "metadata": {
        "id": "62ojurgbIx2A",
        "outputId": "fb79baa8-09d1-44ab-9477-f7d919d549a3",
        "colab": {
          "base_uri": "https://localhost:8080/"
        }
      },
      "execution_count": 10,
      "outputs": [
        {
          "output_type": "stream",
          "name": "stdout",
          "text": [
            "[[619 'France' 0 ... 1 1 101348.88]\n",
            " [608 'Spain' 0 ... 0 1 112542.58]\n",
            " [502 'France' 0 ... 1 0 113931.57]\n",
            " ...\n",
            " [709 'France' 0 ... 0 1 42085.58]\n",
            " [772 'Germany' 1 ... 1 0 92888.52]\n",
            " [792 'France' 0 ... 1 0 38190.78]]\n"
          ]
        }
      ]
    },
    {
      "cell_type": "markdown",
      "metadata": {
        "id": "CUxGZezpbMcb"
      },
      "source": [
        "One Hot Encoding the \"Geography\" column"
      ]
    },
    {
      "cell_type": "markdown",
      "source": [
        "from sklearn."
      ],
      "metadata": {
        "id": "RPcOPSvPHoxD"
      }
    },
    {
      "cell_type": "code",
      "source": [
        "from sklearn.compose import ColumnTransformer\n",
        "from sklearn.preprocessing import OneHotEncoder\n",
        "ct = ColumnTransformer(transformers=[('encorder', OneHotEncoder(), [1])], remainder=\"passthrough\")\n",
        "X = np.array(ct.fit_transform(X))"
      ],
      "metadata": {
        "id": "xbVCiGGPHwMr"
      },
      "execution_count": 11,
      "outputs": []
    },
    {
      "cell_type": "code",
      "source": [
        "print(ct.fit_transform(X)) #보통 sparese matrix로 나오기도해서"
      ],
      "metadata": {
        "id": "GNJ_waI1-9LS",
        "outputId": "d77eddee-7426-41ac-a40e-f5916612a58a",
        "colab": {
          "base_uri": "https://localhost:8080/"
        }
      },
      "execution_count": 12,
      "outputs": [
        {
          "output_type": "stream",
          "name": "stdout",
          "text": [
            "[[1.0 0.0 1.0 ... 1 1 101348.88]\n",
            " [1.0 0.0 0.0 ... 0 1 112542.58]\n",
            " [1.0 0.0 1.0 ... 1 0 113931.57]\n",
            " ...\n",
            " [1.0 0.0 1.0 ... 0 1 42085.58]\n",
            " [0.0 1.0 0.0 ... 1 0 92888.52]\n",
            " [1.0 0.0 1.0 ... 1 0 38190.78]]\n"
          ]
        }
      ]
    },
    {
      "cell_type": "markdown",
      "source": [
        "<Preprocess, Template 활용해서>\n",
        "\n",
        "Geopgraphy, 지역을 one-hot code로 수정함"
      ],
      "metadata": {
        "id": "XyHXTT0eP8k6"
      }
    },
    {
      "cell_type": "code",
      "source": [
        "print(X)"
      ],
      "metadata": {
        "id": "KUIQ5Qf0PVt-",
        "outputId": "97bd1c34-d081-434a-ea39-d92b29f6f03c",
        "colab": {
          "base_uri": "https://localhost:8080/"
        }
      },
      "execution_count": 13,
      "outputs": [
        {
          "output_type": "stream",
          "name": "stdout",
          "text": [
            "[[1.0 0.0 0.0 ... 1 1 101348.88]\n",
            " [0.0 0.0 1.0 ... 0 1 112542.58]\n",
            " [1.0 0.0 0.0 ... 1 0 113931.57]\n",
            " ...\n",
            " [1.0 0.0 0.0 ... 0 1 42085.58]\n",
            " [0.0 1.0 0.0 ... 1 0 92888.52]\n",
            " [1.0 0.0 0.0 ... 1 0 38190.78]]\n"
          ]
        }
      ]
    },
    {
      "cell_type": "markdown",
      "metadata": {
        "id": "vHol938cW8zd"
      },
      "source": [
        "### Splitting the dataset into the Training set and Test set"
      ]
    },
    {
      "cell_type": "code",
      "source": [
        "from sklearn.model_selection import train_test_split\n",
        "X_train, X_test, y_train, y_test = train_test_split(X, y, test_size = 0.2, random_state=0)"
      ],
      "metadata": {
        "id": "4FYO_A7cIM6P"
      },
      "execution_count": 14,
      "outputs": []
    },
    {
      "cell_type": "markdown",
      "metadata": {
        "id": "RE_FcHyfV3TQ"
      },
      "source": [
        "### Feature Scaling"
      ]
    },
    {
      "cell_type": "code",
      "source": [
        "from sklearn.preprocessing import StandardScaler\n",
        "sc = StandardScaler()\n",
        "X_train = sc.fit_transform(X_train)\n",
        "X_test = sc.transform(X_test)"
      ],
      "metadata": {
        "id": "xaaMRtADIW4w"
      },
      "execution_count": 15,
      "outputs": []
    },
    {
      "cell_type": "markdown",
      "source": [
        "Standard Scaler!\n",
        "\n",
        "- 특성 1: 나이 = [20, 30, 40]\n",
        "- 특성 2: 연봉 = [30,000,000, 60,000,000, 100,000,000]\n",
        "\n",
        "이렇게 각각의 Feature Scale의 차이를 없애주는것\n",
        "\n",
        "\n",
        "```\n",
        "# X_scaled = (X - 평균) / 표준편차\n",
        "\n",
        "```\n",
        "\n",
        "\n",
        "\n",
        "| 특성 | 평균  | 표준편차 | 스케일링 결과              |\n",
        "| -- | --- | ---- | -------------------- |\n",
        "| 나이 | 30  | 10   | \\[-1, 0, 1]          |\n",
        "| 연봉 | 63M | 29M  | \\[-1.14, -0.1, 1.24] |\n"
      ],
      "metadata": {
        "id": "4N9ZUhHiR2B9"
      }
    },
    {
      "cell_type": "markdown",
      "source": [
        "-> Train data에만 standardscaler해주기!"
      ],
      "metadata": {
        "id": "9TVkr9daAUar"
      }
    },
    {
      "cell_type": "markdown",
      "metadata": {
        "id": "-zfEzkRVXIwF"
      },
      "source": [
        "## Part 2 - Building the ANN"
      ]
    },
    {
      "cell_type": "markdown",
      "metadata": {
        "id": "KvdeScabXtlB"
      },
      "source": [
        "### Initializing the ANN"
      ]
    },
    {
      "cell_type": "code",
      "source": [
        "ann = tf.keras.models.Sequential()\n",
        "# integrated Keras, into tf"
      ],
      "metadata": {
        "id": "kBv8wWXB6zs8"
      },
      "execution_count": 16,
      "outputs": []
    },
    {
      "cell_type": "markdown",
      "source": [
        "Sequence Layer를 활용해서 OutputLayer까지 차례로 이어짐"
      ],
      "metadata": {
        "id": "KYOnK2nkJK0m"
      }
    },
    {
      "cell_type": "markdown",
      "source": [
        "TwoLayerNet에서 작업했던 이 짓을 한번만에 처리 가능!\n",
        "\n",
        "```\n",
        "  self.params['W1'] = weight_init_std * np.random.randn(input_size, hidden_size)\n",
        "  self.params['b1'] = np.zeros(hidden_size)\n",
        "  self.params['W2'] = weight_init_std * np.random.randn(hidden_size, output_size)\n",
        "  self.params['b2'] = np.zeros(output_size)\n",
        "\n",
        "def predict(self, x)\n",
        "a1 = np.dot(x, W1) +b1\n",
        "z1 = sigmoid(a1)\n",
        "a2 = np.dot(z1, W2) + b2\n",
        "y = softmax(a2)\n",
        "\n",
        "return y\n",
        "```\n",
        "\n",
        "이렇게 하나씩 처리했던 과정을\n",
        "tf를 활용하면"
      ],
      "metadata": {
        "id": "ZqBOD9OEMako"
      }
    },
    {
      "cell_type": "code",
      "source": [
        "import tensorflow as tf\n",
        "from tensorflow.keras.models import Sequential\n",
        "from tensorflow.keras.layers import Dense\n",
        "\n",
        "model = Sequential([Dense(units = 50, activation='sigmoid', input_shape=(784, )), Dense(units = 10, activation = 'softmax')])\n",
        "\n",
        "model.summary()\n",
        "\n",
        "#얘는 실행하지말기"
      ],
      "metadata": {
        "id": "6f5ThQL_Ovbp"
      },
      "execution_count": null,
      "outputs": []
    },
    {
      "cell_type": "markdown",
      "source": [
        "이렇게 처리 가능!!"
      ],
      "metadata": {
        "id": "4Xm1ax3gPQ_V"
      }
    },
    {
      "cell_type": "markdown",
      "metadata": {
        "id": "rP6urV6SX7kS"
      },
      "source": [
        "### Adding the input layer and the first hidden layer"
      ]
    },
    {
      "cell_type": "code",
      "source": [
        "ann.add(tf.keras.layers.Dense(units=6, activation='relu'))"
      ],
      "metadata": {
        "id": "XcCVj1KRKoP5"
      },
      "execution_count": 17,
      "outputs": []
    },
    {
      "cell_type": "markdown",
      "source": [
        "- Dense : FCL\n",
        "- unit : hidden Neuron\n",
        "\n",
        "| 수동 구현 (NumPy 등)                | Keras 코드 (`Dense`)   |\n",
        "| ------------------------------ | -------------------- |\n",
        "| `input_size = 784`             | `input_shape=(784,)` |\n",
        "| `hidden_size = 50`             | `units=50`           |\n",
        "| `activation=sigmoid` 또는 `relu` | `activation='...'`   |\n"
      ],
      "metadata": {
        "id": "W6efRjJsQXmd"
      }
    },
    {
      "cell_type": "markdown",
      "metadata": {
        "id": "BELWAc_8YJze"
      },
      "source": [
        "### Adding the second hidden layer"
      ]
    },
    {
      "cell_type": "code",
      "source": [
        "ann.add(tf.keras.layers.Dense(units=6, activation='relu'))"
      ],
      "metadata": {
        "id": "PkxN0pXFAgST"
      },
      "execution_count": 18,
      "outputs": []
    },
    {
      "cell_type": "markdown",
      "metadata": {
        "id": "OyNEe6RXYcU4"
      },
      "source": [
        "### Adding the output layer"
      ]
    },
    {
      "cell_type": "code",
      "source": [
        "ann.add(tf.keras.layers.Dense(units=1, activation='sigmoid'))"
      ],
      "metadata": {
        "id": "oOdOz2-PSf52"
      },
      "execution_count": 19,
      "outputs": []
    },
    {
      "cell_type": "markdown",
      "source": [
        "=> Regression하면 최종적으로 연속적인 실수 예측해야해서 Activation 함수 안했다"
      ],
      "metadata": {
        "id": "VE4UY64VpV-S"
      }
    },
    {
      "cell_type": "markdown",
      "source": [
        "왜 Exit [0.08, 0.92] 이런식으로 아닌가?\n",
        "One-hot Label과 softmax일때여야하는데 잘 활용 ❌\n",
        "\n",
        "```\n",
        "Dense (units=2, activation='softmax')\n",
        "```\n",
        "\n",
        "\n",
        "\n",
        "\n",
        "| 방식                    | 설명                                                                          |\n",
        "| --------------------- | --------------------------------------------------------------------------- |\n",
        "| `units=1` + `sigmoid` | → 0\\~1 사이의 확률값 하나 출력<br>→ 이 확률이 \"클래스 1일 확률\"이라고 간주<br>→ `>0.5`면 클래스 1, 아니면 0 |\n",
        "| `units=2` + `softmax` | → 확률 벡터 `[0.2, 0.8]`처럼 두 개 출력<br>→ 다중 클래스(3개 이상)일 때 사용하거나, 일부 모델 구조에서 사용    |\n"
      ],
      "metadata": {
        "id": "NV5gx2zYTZEF"
      }
    },
    {
      "cell_type": "markdown",
      "metadata": {
        "id": "JT4u2S1_Y4WG"
      },
      "source": [
        "## Part 3 - Training the ANN"
      ]
    },
    {
      "cell_type": "markdown",
      "metadata": {
        "id": "8GWlJChhY_ZI"
      },
      "source": [
        "### Compiling the ANN"
      ]
    },
    {
      "cell_type": "markdown",
      "source": [
        "Optimizer?"
      ],
      "metadata": {
        "id": "A2ccawitpot0"
      }
    },
    {
      "cell_type": "code",
      "source": [
        "ann.compile(optimizer='adam', loss= 'binary_crossentropy', metrics=['accuracy'] )"
      ],
      "metadata": {
        "id": "Hp61gYXZUx-f"
      },
      "execution_count": 20,
      "outputs": []
    },
    {
      "cell_type": "markdown",
      "source": [
        "| Loss 이름                           | 사용 조건            | 예측 값 (`y_pred`)                | 정답 레이블 (`y`)                      | 특징             |\n",
        "| --------------------------------- | ---------------- | ------------------------------ | --------------------------------- | -------------- |\n",
        "| `binary_crossentropy`             | **클래스 2개 (0/1)** | `float` (0\\~1, sigmoid 출력)     | 0 or 1 (또는 \\[1,0]/\\[0,1] one-hot) | sigmoid와 함께 사용 |\n",
        "| `categorical_crossentropy`        | **클래스 3개 이상**    | `[0.1, 0.3, 0.6]` (softmax 출력) | `[0, 0, 1]` (one-hot vector)      | softmax와 함께 사용 |\n",
        "| `sparse_categorical_crossentropy` | **클래스 3개 이상**    | `[0.1, 0.3, 0.6]`              | `2` (정수 형태 라벨)                    | one-hot 안 써도 됨 |\n"
      ],
      "metadata": {
        "id": "VWCVLVTuXU6r"
      }
    },
    {
      "cell_type": "markdown",
      "source": [
        "Binary를 활용하여서 Classification!\n",
        "\n",
        "2개 이상의 Output이라면, SoftMax로 activation function!"
      ],
      "metadata": {
        "id": "g-6p0BKLXYvz"
      }
    },
    {
      "cell_type": "markdown",
      "source": [
        "- adam algorithm : stochastic Desncent Gradient\n",
        "- MSE 로 loss function잡음"
      ],
      "metadata": {
        "id": "na_jCEqYqgoT"
      }
    },
    {
      "cell_type": "markdown",
      "metadata": {
        "id": "0QR_G5u7ZLSM"
      },
      "source": [
        "### Training the ANN on the Training set"
      ]
    },
    {
      "cell_type": "code",
      "source": [
        "ann.fit(X_train, y_train, batch_size=32, epochs = 100)"
      ],
      "metadata": {
        "id": "qxfuyisyYF0x",
        "outputId": "e7d2a3b0-e0b6-492c-a64c-5298f89bba73",
        "colab": {
          "base_uri": "https://localhost:8080/"
        }
      },
      "execution_count": 21,
      "outputs": [
        {
          "output_type": "stream",
          "name": "stdout",
          "text": [
            "Epoch 1/100\n",
            "\u001b[1m250/250\u001b[0m \u001b[32m━━━━━━━━━━━━━━━━━━━━\u001b[0m\u001b[37m\u001b[0m \u001b[1m3s\u001b[0m 4ms/step - accuracy: 0.6264 - loss: 0.6786\n",
            "Epoch 2/100\n",
            "\u001b[1m250/250\u001b[0m \u001b[32m━━━━━━━━━━━━━━━━━━━━\u001b[0m\u001b[37m\u001b[0m \u001b[1m1s\u001b[0m 3ms/step - accuracy: 0.7881 - loss: 0.4935\n",
            "Epoch 3/100\n",
            "\u001b[1m250/250\u001b[0m \u001b[32m━━━━━━━━━━━━━━━━━━━━\u001b[0m\u001b[37m\u001b[0m \u001b[1m1s\u001b[0m 2ms/step - accuracy: 0.7993 - loss: 0.4478\n",
            "Epoch 4/100\n",
            "\u001b[1m250/250\u001b[0m \u001b[32m━━━━━━━━━━━━━━━━━━━━\u001b[0m\u001b[37m\u001b[0m \u001b[1m1s\u001b[0m 2ms/step - accuracy: 0.7953 - loss: 0.4411\n",
            "Epoch 5/100\n",
            "\u001b[1m250/250\u001b[0m \u001b[32m━━━━━━━━━━━━━━━━━━━━\u001b[0m\u001b[37m\u001b[0m \u001b[1m1s\u001b[0m 2ms/step - accuracy: 0.7960 - loss: 0.4423\n",
            "Epoch 6/100\n",
            "\u001b[1m250/250\u001b[0m \u001b[32m━━━━━━━━━━━━━━━━━━━━\u001b[0m\u001b[37m\u001b[0m \u001b[1m1s\u001b[0m 2ms/step - accuracy: 0.8245 - loss: 0.4137\n",
            "Epoch 7/100\n",
            "\u001b[1m250/250\u001b[0m \u001b[32m━━━━━━━━━━━━━━━━━━━━\u001b[0m\u001b[37m\u001b[0m \u001b[1m1s\u001b[0m 4ms/step - accuracy: 0.8150 - loss: 0.4185\n",
            "Epoch 8/100\n",
            "\u001b[1m250/250\u001b[0m \u001b[32m━━━━━━━━━━━━━━━━━━━━\u001b[0m\u001b[37m\u001b[0m \u001b[1m1s\u001b[0m 4ms/step - accuracy: 0.8235 - loss: 0.4157\n",
            "Epoch 9/100\n",
            "\u001b[1m250/250\u001b[0m \u001b[32m━━━━━━━━━━━━━━━━━━━━\u001b[0m\u001b[37m\u001b[0m \u001b[1m1s\u001b[0m 4ms/step - accuracy: 0.8282 - loss: 0.4113\n",
            "Epoch 10/100\n",
            "\u001b[1m250/250\u001b[0m \u001b[32m━━━━━━━━━━━━━━━━━━━━\u001b[0m\u001b[37m\u001b[0m \u001b[1m1s\u001b[0m 2ms/step - accuracy: 0.8267 - loss: 0.4126\n",
            "Epoch 11/100\n",
            "\u001b[1m250/250\u001b[0m \u001b[32m━━━━━━━━━━━━━━━━━━━━\u001b[0m\u001b[37m\u001b[0m \u001b[1m1s\u001b[0m 2ms/step - accuracy: 0.8273 - loss: 0.4072\n",
            "Epoch 12/100\n",
            "\u001b[1m250/250\u001b[0m \u001b[32m━━━━━━━━━━━━━━━━━━━━\u001b[0m\u001b[37m\u001b[0m \u001b[1m1s\u001b[0m 2ms/step - accuracy: 0.8269 - loss: 0.4080\n",
            "Epoch 13/100\n",
            "\u001b[1m250/250\u001b[0m \u001b[32m━━━━━━━━━━━━━━━━━━━━\u001b[0m\u001b[37m\u001b[0m \u001b[1m1s\u001b[0m 2ms/step - accuracy: 0.8230 - loss: 0.4100\n",
            "Epoch 14/100\n",
            "\u001b[1m250/250\u001b[0m \u001b[32m━━━━━━━━━━━━━━━━━━━━\u001b[0m\u001b[37m\u001b[0m \u001b[1m1s\u001b[0m 2ms/step - accuracy: 0.8371 - loss: 0.3904\n",
            "Epoch 15/100\n",
            "\u001b[1m250/250\u001b[0m \u001b[32m━━━━━━━━━━━━━━━━━━━━\u001b[0m\u001b[37m\u001b[0m \u001b[1m1s\u001b[0m 2ms/step - accuracy: 0.8314 - loss: 0.3995\n",
            "Epoch 16/100\n",
            "\u001b[1m250/250\u001b[0m \u001b[32m━━━━━━━━━━━━━━━━━━━━\u001b[0m\u001b[37m\u001b[0m \u001b[1m2s\u001b[0m 4ms/step - accuracy: 0.8421 - loss: 0.3844\n",
            "Epoch 17/100\n",
            "\u001b[1m250/250\u001b[0m \u001b[32m━━━━━━━━━━━━━━━━━━━━\u001b[0m\u001b[37m\u001b[0m \u001b[1m1s\u001b[0m 3ms/step - accuracy: 0.8414 - loss: 0.3789\n",
            "Epoch 18/100\n",
            "\u001b[1m250/250\u001b[0m \u001b[32m━━━━━━━━━━━━━━━━━━━━\u001b[0m\u001b[37m\u001b[0m \u001b[1m1s\u001b[0m 2ms/step - accuracy: 0.8499 - loss: 0.3770\n",
            "Epoch 19/100\n",
            "\u001b[1m250/250\u001b[0m \u001b[32m━━━━━━━━━━━━━━━━━━━━\u001b[0m\u001b[37m\u001b[0m \u001b[1m1s\u001b[0m 2ms/step - accuracy: 0.8489 - loss: 0.3652\n",
            "Epoch 20/100\n",
            "\u001b[1m250/250\u001b[0m \u001b[32m━━━━━━━━━━━━━━━━━━━━\u001b[0m\u001b[37m\u001b[0m \u001b[1m1s\u001b[0m 2ms/step - accuracy: 0.8542 - loss: 0.3580\n",
            "Epoch 21/100\n",
            "\u001b[1m250/250\u001b[0m \u001b[32m━━━━━━━━━━━━━━━━━━━━\u001b[0m\u001b[37m\u001b[0m \u001b[1m1s\u001b[0m 2ms/step - accuracy: 0.8516 - loss: 0.3715\n",
            "Epoch 22/100\n",
            "\u001b[1m250/250\u001b[0m \u001b[32m━━━━━━━━━━━━━━━━━━━━\u001b[0m\u001b[37m\u001b[0m \u001b[1m1s\u001b[0m 2ms/step - accuracy: 0.8588 - loss: 0.3522\n",
            "Epoch 23/100\n",
            "\u001b[1m250/250\u001b[0m \u001b[32m━━━━━━━━━━━━━━━━━━━━\u001b[0m\u001b[37m\u001b[0m \u001b[1m1s\u001b[0m 2ms/step - accuracy: 0.8539 - loss: 0.3525\n",
            "Epoch 24/100\n",
            "\u001b[1m250/250\u001b[0m \u001b[32m━━━━━━━━━━━━━━━━━━━━\u001b[0m\u001b[37m\u001b[0m \u001b[1m1s\u001b[0m 2ms/step - accuracy: 0.8515 - loss: 0.3570\n",
            "Epoch 25/100\n",
            "\u001b[1m250/250\u001b[0m \u001b[32m━━━━━━━━━━━━━━━━━━━━\u001b[0m\u001b[37m\u001b[0m \u001b[1m1s\u001b[0m 2ms/step - accuracy: 0.8582 - loss: 0.3482\n",
            "Epoch 26/100\n",
            "\u001b[1m250/250\u001b[0m \u001b[32m━━━━━━━━━━━━━━━━━━━━\u001b[0m\u001b[37m\u001b[0m \u001b[1m1s\u001b[0m 2ms/step - accuracy: 0.8590 - loss: 0.3407\n",
            "Epoch 27/100\n",
            "\u001b[1m250/250\u001b[0m \u001b[32m━━━━━━━━━━━━━━━━━━━━\u001b[0m\u001b[37m\u001b[0m \u001b[1m1s\u001b[0m 2ms/step - accuracy: 0.8501 - loss: 0.3543\n",
            "Epoch 28/100\n",
            "\u001b[1m250/250\u001b[0m \u001b[32m━━━━━━━━━━━━━━━━━━━━\u001b[0m\u001b[37m\u001b[0m \u001b[1m1s\u001b[0m 2ms/step - accuracy: 0.8586 - loss: 0.3497\n",
            "Epoch 29/100\n",
            "\u001b[1m250/250\u001b[0m \u001b[32m━━━━━━━━━━━━━━━━━━━━\u001b[0m\u001b[37m\u001b[0m \u001b[1m1s\u001b[0m 2ms/step - accuracy: 0.8610 - loss: 0.3388\n",
            "Epoch 30/100\n",
            "\u001b[1m250/250\u001b[0m \u001b[32m━━━━━━━━━━━━━━━━━━━━\u001b[0m\u001b[37m\u001b[0m \u001b[1m1s\u001b[0m 2ms/step - accuracy: 0.8559 - loss: 0.3504\n",
            "Epoch 31/100\n",
            "\u001b[1m250/250\u001b[0m \u001b[32m━━━━━━━━━━━━━━━━━━━━\u001b[0m\u001b[37m\u001b[0m \u001b[1m1s\u001b[0m 2ms/step - accuracy: 0.8580 - loss: 0.3493\n",
            "Epoch 32/100\n",
            "\u001b[1m250/250\u001b[0m \u001b[32m━━━━━━━━━━━━━━━━━━━━\u001b[0m\u001b[37m\u001b[0m \u001b[1m1s\u001b[0m 4ms/step - accuracy: 0.8596 - loss: 0.3469\n",
            "Epoch 33/100\n",
            "\u001b[1m250/250\u001b[0m \u001b[32m━━━━━━━━━━━━━━━━━━━━\u001b[0m\u001b[37m\u001b[0m \u001b[1m1s\u001b[0m 4ms/step - accuracy: 0.8542 - loss: 0.3492\n",
            "Epoch 34/100\n",
            "\u001b[1m250/250\u001b[0m \u001b[32m━━━━━━━━━━━━━━━━━━━━\u001b[0m\u001b[37m\u001b[0m \u001b[1m1s\u001b[0m 2ms/step - accuracy: 0.8543 - loss: 0.3621\n",
            "Epoch 35/100\n",
            "\u001b[1m250/250\u001b[0m \u001b[32m━━━━━━━━━━━━━━━━━━━━\u001b[0m\u001b[37m\u001b[0m \u001b[1m1s\u001b[0m 2ms/step - accuracy: 0.8534 - loss: 0.3441\n",
            "Epoch 36/100\n",
            "\u001b[1m250/250\u001b[0m \u001b[32m━━━━━━━━━━━━━━━━━━━━\u001b[0m\u001b[37m\u001b[0m \u001b[1m1s\u001b[0m 2ms/step - accuracy: 0.8558 - loss: 0.3470\n",
            "Epoch 37/100\n",
            "\u001b[1m250/250\u001b[0m \u001b[32m━━━━━━━━━━━━━━━━━━━━\u001b[0m\u001b[37m\u001b[0m \u001b[1m1s\u001b[0m 2ms/step - accuracy: 0.8589 - loss: 0.3376\n",
            "Epoch 38/100\n",
            "\u001b[1m250/250\u001b[0m \u001b[32m━━━━━━━━━━━━━━━━━━━━\u001b[0m\u001b[37m\u001b[0m \u001b[1m1s\u001b[0m 2ms/step - accuracy: 0.8569 - loss: 0.3404\n",
            "Epoch 39/100\n",
            "\u001b[1m250/250\u001b[0m \u001b[32m━━━━━━━━━━━━━━━━━━━━\u001b[0m\u001b[37m\u001b[0m \u001b[1m1s\u001b[0m 2ms/step - accuracy: 0.8643 - loss: 0.3319\n",
            "Epoch 40/100\n",
            "\u001b[1m250/250\u001b[0m \u001b[32m━━━━━━━━━━━━━━━━━━━━\u001b[0m\u001b[37m\u001b[0m \u001b[1m1s\u001b[0m 2ms/step - accuracy: 0.8647 - loss: 0.3324\n",
            "Epoch 41/100\n",
            "\u001b[1m250/250\u001b[0m \u001b[32m━━━━━━━━━━━━━━━━━━━━\u001b[0m\u001b[37m\u001b[0m \u001b[1m1s\u001b[0m 2ms/step - accuracy: 0.8638 - loss: 0.3420\n",
            "Epoch 42/100\n",
            "\u001b[1m250/250\u001b[0m \u001b[32m━━━━━━━━━━━━━━━━━━━━\u001b[0m\u001b[37m\u001b[0m \u001b[1m1s\u001b[0m 2ms/step - accuracy: 0.8572 - loss: 0.3451\n",
            "Epoch 43/100\n",
            "\u001b[1m250/250\u001b[0m \u001b[32m━━━━━━━━━━━━━━━━━━━━\u001b[0m\u001b[37m\u001b[0m \u001b[1m1s\u001b[0m 2ms/step - accuracy: 0.8514 - loss: 0.3517\n",
            "Epoch 44/100\n",
            "\u001b[1m250/250\u001b[0m \u001b[32m━━━━━━━━━━━━━━━━━━━━\u001b[0m\u001b[37m\u001b[0m \u001b[1m1s\u001b[0m 2ms/step - accuracy: 0.8601 - loss: 0.3392\n",
            "Epoch 45/100\n",
            "\u001b[1m250/250\u001b[0m \u001b[32m━━━━━━━━━━━━━━━━━━━━\u001b[0m\u001b[37m\u001b[0m \u001b[1m1s\u001b[0m 2ms/step - accuracy: 0.8597 - loss: 0.3373\n",
            "Epoch 46/100\n",
            "\u001b[1m250/250\u001b[0m \u001b[32m━━━━━━━━━━━━━━━━━━━━\u001b[0m\u001b[37m\u001b[0m \u001b[1m1s\u001b[0m 2ms/step - accuracy: 0.8553 - loss: 0.3448\n",
            "Epoch 47/100\n",
            "\u001b[1m250/250\u001b[0m \u001b[32m━━━━━━━━━━━━━━━━━━━━\u001b[0m\u001b[37m\u001b[0m \u001b[1m1s\u001b[0m 2ms/step - accuracy: 0.8648 - loss: 0.3394\n",
            "Epoch 48/100\n",
            "\u001b[1m250/250\u001b[0m \u001b[32m━━━━━━━━━━━━━━━━━━━━\u001b[0m\u001b[37m\u001b[0m \u001b[1m1s\u001b[0m 2ms/step - accuracy: 0.8644 - loss: 0.3353\n",
            "Epoch 49/100\n",
            "\u001b[1m250/250\u001b[0m \u001b[32m━━━━━━━━━━━━━━━━━━━━\u001b[0m\u001b[37m\u001b[0m \u001b[1m1s\u001b[0m 2ms/step - accuracy: 0.8579 - loss: 0.3437\n",
            "Epoch 50/100\n",
            "\u001b[1m250/250\u001b[0m \u001b[32m━━━━━━━━━━━━━━━━━━━━\u001b[0m\u001b[37m\u001b[0m \u001b[1m1s\u001b[0m 4ms/step - accuracy: 0.8599 - loss: 0.3401\n",
            "Epoch 51/100\n",
            "\u001b[1m250/250\u001b[0m \u001b[32m━━━━━━━━━━━━━━━━━━━━\u001b[0m\u001b[37m\u001b[0m \u001b[1m1s\u001b[0m 4ms/step - accuracy: 0.8676 - loss: 0.3279\n",
            "Epoch 52/100\n",
            "\u001b[1m250/250\u001b[0m \u001b[32m━━━━━━━━━━━━━━━━━━━━\u001b[0m\u001b[37m\u001b[0m \u001b[1m1s\u001b[0m 2ms/step - accuracy: 0.8644 - loss: 0.3331\n",
            "Epoch 53/100\n",
            "\u001b[1m250/250\u001b[0m \u001b[32m━━━━━━━━━━━━━━━━━━━━\u001b[0m\u001b[37m\u001b[0m \u001b[1m1s\u001b[0m 4ms/step - accuracy: 0.8638 - loss: 0.3314\n",
            "Epoch 54/100\n",
            "\u001b[1m250/250\u001b[0m \u001b[32m━━━━━━━━━━━━━━━━━━━━\u001b[0m\u001b[37m\u001b[0m \u001b[1m1s\u001b[0m 2ms/step - accuracy: 0.8624 - loss: 0.3329\n",
            "Epoch 55/100\n",
            "\u001b[1m250/250\u001b[0m \u001b[32m━━━━━━━━━━━━━━━━━━━━\u001b[0m\u001b[37m\u001b[0m \u001b[1m1s\u001b[0m 2ms/step - accuracy: 0.8624 - loss: 0.3412\n",
            "Epoch 56/100\n",
            "\u001b[1m250/250\u001b[0m \u001b[32m━━━━━━━━━━━━━━━━━━━━\u001b[0m\u001b[37m\u001b[0m \u001b[1m1s\u001b[0m 2ms/step - accuracy: 0.8617 - loss: 0.3340\n",
            "Epoch 57/100\n",
            "\u001b[1m250/250\u001b[0m \u001b[32m━━━━━━━━━━━━━━━━━━━━\u001b[0m\u001b[37m\u001b[0m \u001b[1m1s\u001b[0m 2ms/step - accuracy: 0.8615 - loss: 0.3370\n",
            "Epoch 58/100\n",
            "\u001b[1m250/250\u001b[0m \u001b[32m━━━━━━━━━━━━━━━━━━━━\u001b[0m\u001b[37m\u001b[0m \u001b[1m1s\u001b[0m 2ms/step - accuracy: 0.8554 - loss: 0.3481\n",
            "Epoch 59/100\n",
            "\u001b[1m250/250\u001b[0m \u001b[32m━━━━━━━━━━━━━━━━━━━━\u001b[0m\u001b[37m\u001b[0m \u001b[1m1s\u001b[0m 2ms/step - accuracy: 0.8665 - loss: 0.3258\n",
            "Epoch 60/100\n",
            "\u001b[1m250/250\u001b[0m \u001b[32m━━━━━━━━━━━━━━━━━━━━\u001b[0m\u001b[37m\u001b[0m \u001b[1m1s\u001b[0m 2ms/step - accuracy: 0.8621 - loss: 0.3397\n",
            "Epoch 61/100\n",
            "\u001b[1m250/250\u001b[0m \u001b[32m━━━━━━━━━━━━━━━━━━━━\u001b[0m\u001b[37m\u001b[0m \u001b[1m1s\u001b[0m 2ms/step - accuracy: 0.8522 - loss: 0.3451\n",
            "Epoch 62/100\n",
            "\u001b[1m250/250\u001b[0m \u001b[32m━━━━━━━━━━━━━━━━━━━━\u001b[0m\u001b[37m\u001b[0m \u001b[1m1s\u001b[0m 2ms/step - accuracy: 0.8590 - loss: 0.3399\n",
            "Epoch 63/100\n",
            "\u001b[1m250/250\u001b[0m \u001b[32m━━━━━━━━━━━━━━━━━━━━\u001b[0m\u001b[37m\u001b[0m \u001b[1m1s\u001b[0m 2ms/step - accuracy: 0.8552 - loss: 0.3516\n",
            "Epoch 64/100\n",
            "\u001b[1m250/250\u001b[0m \u001b[32m━━━━━━━━━━━━━━━━━━━━\u001b[0m\u001b[37m\u001b[0m \u001b[1m1s\u001b[0m 2ms/step - accuracy: 0.8626 - loss: 0.3408\n",
            "Epoch 65/100\n",
            "\u001b[1m250/250\u001b[0m \u001b[32m━━━━━━━━━━━━━━━━━━━━\u001b[0m\u001b[37m\u001b[0m \u001b[1m1s\u001b[0m 2ms/step - accuracy: 0.8616 - loss: 0.3386\n",
            "Epoch 66/100\n",
            "\u001b[1m250/250\u001b[0m \u001b[32m━━━━━━━━━━━━━━━━━━━━\u001b[0m\u001b[37m\u001b[0m \u001b[1m1s\u001b[0m 2ms/step - accuracy: 0.8605 - loss: 0.3439\n",
            "Epoch 67/100\n",
            "\u001b[1m250/250\u001b[0m \u001b[32m━━━━━━━━━━━━━━━━━━━━\u001b[0m\u001b[37m\u001b[0m \u001b[1m1s\u001b[0m 2ms/step - accuracy: 0.8671 - loss: 0.3312\n",
            "Epoch 68/100\n",
            "\u001b[1m250/250\u001b[0m \u001b[32m━━━━━━━━━━━━━━━━━━━━\u001b[0m\u001b[37m\u001b[0m \u001b[1m1s\u001b[0m 4ms/step - accuracy: 0.8656 - loss: 0.3279\n",
            "Epoch 69/100\n",
            "\u001b[1m250/250\u001b[0m \u001b[32m━━━━━━━━━━━━━━━━━━━━\u001b[0m\u001b[37m\u001b[0m \u001b[1m1s\u001b[0m 4ms/step - accuracy: 0.8684 - loss: 0.3240\n",
            "Epoch 70/100\n",
            "\u001b[1m250/250\u001b[0m \u001b[32m━━━━━━━━━━━━━━━━━━━━\u001b[0m\u001b[37m\u001b[0m \u001b[1m1s\u001b[0m 3ms/step - accuracy: 0.8652 - loss: 0.3328\n",
            "Epoch 71/100\n",
            "\u001b[1m250/250\u001b[0m \u001b[32m━━━━━━━━━━━━━━━━━━━━\u001b[0m\u001b[37m\u001b[0m \u001b[1m1s\u001b[0m 2ms/step - accuracy: 0.8676 - loss: 0.3319\n",
            "Epoch 72/100\n",
            "\u001b[1m250/250\u001b[0m \u001b[32m━━━━━━━━━━━━━━━━━━━━\u001b[0m\u001b[37m\u001b[0m \u001b[1m1s\u001b[0m 2ms/step - accuracy: 0.8553 - loss: 0.3472\n",
            "Epoch 73/100\n",
            "\u001b[1m250/250\u001b[0m \u001b[32m━━━━━━━━━━━━━━━━━━━━\u001b[0m\u001b[37m\u001b[0m \u001b[1m1s\u001b[0m 2ms/step - accuracy: 0.8554 - loss: 0.3472\n",
            "Epoch 74/100\n",
            "\u001b[1m250/250\u001b[0m \u001b[32m━━━━━━━━━━━━━━━━━━━━\u001b[0m\u001b[37m\u001b[0m \u001b[1m1s\u001b[0m 2ms/step - accuracy: 0.8649 - loss: 0.3311\n",
            "Epoch 75/100\n",
            "\u001b[1m250/250\u001b[0m \u001b[32m━━━━━━━━━━━━━━━━━━━━\u001b[0m\u001b[37m\u001b[0m \u001b[1m1s\u001b[0m 2ms/step - accuracy: 0.8605 - loss: 0.3377\n",
            "Epoch 76/100\n",
            "\u001b[1m250/250\u001b[0m \u001b[32m━━━━━━━━━━━━━━━━━━━━\u001b[0m\u001b[37m\u001b[0m \u001b[1m1s\u001b[0m 2ms/step - accuracy: 0.8678 - loss: 0.3249\n",
            "Epoch 77/100\n",
            "\u001b[1m250/250\u001b[0m \u001b[32m━━━━━━━━━━━━━━━━━━━━\u001b[0m\u001b[37m\u001b[0m \u001b[1m1s\u001b[0m 2ms/step - accuracy: 0.8637 - loss: 0.3319\n",
            "Epoch 78/100\n",
            "\u001b[1m250/250\u001b[0m \u001b[32m━━━━━━━━━━━━━━━━━━━━\u001b[0m\u001b[37m\u001b[0m \u001b[1m1s\u001b[0m 2ms/step - accuracy: 0.8591 - loss: 0.3372\n",
            "Epoch 79/100\n",
            "\u001b[1m250/250\u001b[0m \u001b[32m━━━━━━━━━━━━━━━━━━━━\u001b[0m\u001b[37m\u001b[0m \u001b[1m1s\u001b[0m 2ms/step - accuracy: 0.8626 - loss: 0.3355\n",
            "Epoch 80/100\n",
            "\u001b[1m250/250\u001b[0m \u001b[32m━━━━━━━━━━━━━━━━━━━━\u001b[0m\u001b[37m\u001b[0m \u001b[1m1s\u001b[0m 2ms/step - accuracy: 0.8658 - loss: 0.3324\n",
            "Epoch 81/100\n",
            "\u001b[1m250/250\u001b[0m \u001b[32m━━━━━━━━━━━━━━━━━━━━\u001b[0m\u001b[37m\u001b[0m \u001b[1m1s\u001b[0m 2ms/step - accuracy: 0.8619 - loss: 0.3340\n",
            "Epoch 82/100\n",
            "\u001b[1m250/250\u001b[0m \u001b[32m━━━━━━━━━━━━━━━━━━━━\u001b[0m\u001b[37m\u001b[0m \u001b[1m1s\u001b[0m 2ms/step - accuracy: 0.8633 - loss: 0.3339\n",
            "Epoch 83/100\n",
            "\u001b[1m250/250\u001b[0m \u001b[32m━━━━━━━━━━━━━━━━━━━━\u001b[0m\u001b[37m\u001b[0m \u001b[1m1s\u001b[0m 2ms/step - accuracy: 0.8749 - loss: 0.3125\n",
            "Epoch 84/100\n",
            "\u001b[1m250/250\u001b[0m \u001b[32m━━━━━━━━━━━━━━━━━━━━\u001b[0m\u001b[37m\u001b[0m \u001b[1m1s\u001b[0m 2ms/step - accuracy: 0.8688 - loss: 0.3249\n",
            "Epoch 85/100\n",
            "\u001b[1m250/250\u001b[0m \u001b[32m━━━━━━━━━━━━━━━━━━━━\u001b[0m\u001b[37m\u001b[0m \u001b[1m1s\u001b[0m 2ms/step - accuracy: 0.8659 - loss: 0.3283\n",
            "Epoch 86/100\n",
            "\u001b[1m250/250\u001b[0m \u001b[32m━━━━━━━━━━━━━━━━━━━━\u001b[0m\u001b[37m\u001b[0m \u001b[1m1s\u001b[0m 3ms/step - accuracy: 0.8594 - loss: 0.3404\n",
            "Epoch 87/100\n",
            "\u001b[1m250/250\u001b[0m \u001b[32m━━━━━━━━━━━━━━━━━━━━\u001b[0m\u001b[37m\u001b[0m \u001b[1m1s\u001b[0m 4ms/step - accuracy: 0.8671 - loss: 0.3314\n",
            "Epoch 88/100\n",
            "\u001b[1m250/250\u001b[0m \u001b[32m━━━━━━━━━━━━━━━━━━━━\u001b[0m\u001b[37m\u001b[0m \u001b[1m1s\u001b[0m 2ms/step - accuracy: 0.8648 - loss: 0.3306\n",
            "Epoch 89/100\n",
            "\u001b[1m250/250\u001b[0m \u001b[32m━━━━━━━━━━━━━━━━━━━━\u001b[0m\u001b[37m\u001b[0m \u001b[1m1s\u001b[0m 2ms/step - accuracy: 0.8591 - loss: 0.3446\n",
            "Epoch 90/100\n",
            "\u001b[1m250/250\u001b[0m \u001b[32m━━━━━━━━━━━━━━━━━━━━\u001b[0m\u001b[37m\u001b[0m \u001b[1m1s\u001b[0m 2ms/step - accuracy: 0.8650 - loss: 0.3333\n",
            "Epoch 91/100\n",
            "\u001b[1m250/250\u001b[0m \u001b[32m━━━━━━━━━━━━━━━━━━━━\u001b[0m\u001b[37m\u001b[0m \u001b[1m1s\u001b[0m 2ms/step - accuracy: 0.8687 - loss: 0.3258\n",
            "Epoch 92/100\n",
            "\u001b[1m250/250\u001b[0m \u001b[32m━━━━━━━━━━━━━━━━━━━━\u001b[0m\u001b[37m\u001b[0m \u001b[1m1s\u001b[0m 2ms/step - accuracy: 0.8583 - loss: 0.3421\n",
            "Epoch 93/100\n",
            "\u001b[1m250/250\u001b[0m \u001b[32m━━━━━━━━━━━━━━━━━━━━\u001b[0m\u001b[37m\u001b[0m \u001b[1m1s\u001b[0m 2ms/step - accuracy: 0.8623 - loss: 0.3363\n",
            "Epoch 94/100\n",
            "\u001b[1m250/250\u001b[0m \u001b[32m━━━━━━━━━━━━━━━━━━━━\u001b[0m\u001b[37m\u001b[0m \u001b[1m1s\u001b[0m 2ms/step - accuracy: 0.8583 - loss: 0.3443\n",
            "Epoch 95/100\n",
            "\u001b[1m250/250\u001b[0m \u001b[32m━━━━━━━━━━━━━━━━━━━━\u001b[0m\u001b[37m\u001b[0m \u001b[1m1s\u001b[0m 2ms/step - accuracy: 0.8586 - loss: 0.3407\n",
            "Epoch 96/100\n",
            "\u001b[1m250/250\u001b[0m \u001b[32m━━━━━━━━━━━━━━━━━━━━\u001b[0m\u001b[37m\u001b[0m \u001b[1m1s\u001b[0m 2ms/step - accuracy: 0.8661 - loss: 0.3373\n",
            "Epoch 97/100\n",
            "\u001b[1m250/250\u001b[0m \u001b[32m━━━━━━━━━━━━━━━━━━━━\u001b[0m\u001b[37m\u001b[0m \u001b[1m1s\u001b[0m 2ms/step - accuracy: 0.8604 - loss: 0.3428\n",
            "Epoch 98/100\n",
            "\u001b[1m250/250\u001b[0m \u001b[32m━━━━━━━━━━━━━━━━━━━━\u001b[0m\u001b[37m\u001b[0m \u001b[1m1s\u001b[0m 2ms/step - accuracy: 0.8581 - loss: 0.3480\n",
            "Epoch 99/100\n",
            "\u001b[1m250/250\u001b[0m \u001b[32m━━━━━━━━━━━━━━━━━━━━\u001b[0m\u001b[37m\u001b[0m \u001b[1m1s\u001b[0m 2ms/step - accuracy: 0.8661 - loss: 0.3344\n",
            "Epoch 100/100\n",
            "\u001b[1m250/250\u001b[0m \u001b[32m━━━━━━━━━━━━━━━━━━━━\u001b[0m\u001b[37m\u001b[0m \u001b[1m1s\u001b[0m 2ms/step - accuracy: 0.8590 - loss: 0.3448\n"
          ]
        },
        {
          "output_type": "execute_result",
          "data": {
            "text/plain": [
              "<keras.src.callbacks.history.History at 0x79fccc36fc50>"
            ]
          },
          "metadata": {},
          "execution_count": 21
        }
      ]
    },
    {
      "cell_type": "markdown",
      "metadata": {
        "id": "tJj5k2MxZga3"
      },
      "source": [
        "## Part 4 - Making the predictions and evaluating the model"
      ]
    },
    {
      "cell_type": "markdown",
      "metadata": {
        "id": "84QFoqGYeXHL"
      },
      "source": [
        "### Predicting the result of a single observation"
      ]
    },
    {
      "cell_type": "markdown",
      "metadata": {
        "id": "CGRo3eacgDdC"
      },
      "source": [
        "**Homework**\n",
        "\n",
        "Use our ANN model to predict if the customer with the following informations will leave the bank:\n",
        "\n",
        "Geography: France\n",
        "\n",
        "Credit Score: 600\n",
        "\n",
        "Gender: Male\n",
        "\n",
        "Age: 40 years old\n",
        "\n",
        "Tenure: 3 years\n",
        "\n",
        "Balance: \\$ 60000\n",
        "\n",
        "Number of Products: 2\n",
        "\n",
        "Does this customer have a credit card? Yes\n",
        "\n",
        "Is this customer an Active Member: Yes\n",
        "\n",
        "Estimated Salary: \\$ 50000\n",
        "\n",
        "So, should we say goodbye to that customer?"
      ]
    },
    {
      "cell_type": "markdown",
      "metadata": {
        "id": "ZhU1LTgPg-kH"
      },
      "source": [
        "**Solution**"
      ]
    },
    {
      "cell_type": "code",
      "source": [
        "print(ann.predict(sc.transform([[1,0,0,600, 1, 40, 3, 60000, 2, 1, 1, 50000]])))"
      ],
      "metadata": {
        "id": "YIgYN3iRkwe5",
        "outputId": "fc326ed7-7f69-46a9-f290-d08717f2925b",
        "colab": {
          "base_uri": "https://localhost:8080/"
        }
      },
      "execution_count": 37,
      "outputs": [
        {
          "output_type": "stream",
          "name": "stdout",
          "text": [
            "\u001b[1m1/1\u001b[0m \u001b[32m━━━━━━━━━━━━━━━━━━━━\u001b[0m\u001b[37m\u001b[0m \u001b[1m0s\u001b[0m 70ms/step\n",
            "[[0.03023353]]\n"
          ]
        }
      ]
    },
    {
      "cell_type": "markdown",
      "source": [
        "train에서 fit_transform()으로 int + 표준편차 했지만\n",
        "\n",
        "test에서는 Transform을 활용해서 표준편차에 맞게끔 또 다시 감싸줘야함!"
      ],
      "metadata": {
        "id": "PYV4EhsenLdD"
      }
    },
    {
      "cell_type": "markdown",
      "metadata": {
        "id": "wGjx94g2n7OV"
      },
      "source": [
        "Therefore, our ANN model predicts that this customer stays in the bank!\n",
        "\n",
        "**Important note 1:** Notice that the values of the features were all input in a double pair of square brackets. That's because the \"predict\" method always expects a 2D array as the format of its inputs. And putting our values into a double pair of square brackets makes the input exactly a 2D array.\n",
        "\n",
        "**Important note 2:** Notice also that the \"France\" country was not input as a string in the last column but as \"1, 0, 0\" in the first three columns. That's because of course the predict method expects the one-hot-encoded values of the state, and as we see in the first row of the matrix of features X, \"France\" was encoded as \"1, 0, 0\". And be careful to include these values in the first three columns, because the dummy variables are always created in the first columns."
      ]
    },
    {
      "cell_type": "markdown",
      "source": [
        "#### ann.predict( [[ ]] )"
      ],
      "metadata": {
        "id": "RHPrTjtknzAI"
      }
    },
    {
      "cell_type": "markdown",
      "source": [
        "![image.png](data:image/png;base64,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)"
      ],
      "metadata": {
        "id": "G2GmfP2qo1JI"
      }
    },
    {
      "cell_type": "markdown",
      "source": [
        "batch 단위로 받기때문에\n",
        "n X numClass(Feature)이다\n",
        "\n",
        "[ 1,0,0, ..., 5000 ] ❌ (13,)\n",
        "\n",
        "[[1,0,0, ..., 5000 ]] ✅ (1,13)"
      ],
      "metadata": {
        "id": "7kvqoCovo_CJ"
      }
    },
    {
      "cell_type": "code",
      "source": [
        "print(ann.predict(sc.transform([[1,0,0,600, 1, 40, 3, 60000, 2, 1, 1, 50000]]))>0.5)\n",
        "#0.5 이상이면 떠나는거니까 이렇게도 가능"
      ],
      "metadata": {
        "id": "0iQ3wuVMrCxZ",
        "outputId": "a564722f-784e-4069-e7af-5cc42180df5b",
        "colab": {
          "base_uri": "https://localhost:8080/"
        }
      },
      "execution_count": 38,
      "outputs": [
        {
          "output_type": "stream",
          "name": "stdout",
          "text": [
            "\u001b[1m1/1\u001b[0m \u001b[32m━━━━━━━━━━━━━━━━━━━━\u001b[0m\u001b[37m\u001b[0m \u001b[1m0s\u001b[0m 73ms/step\n",
            "[[False]]\n"
          ]
        }
      ]
    },
    {
      "cell_type": "markdown",
      "source": [
        "- 01 2D 배열로 쌍 bracket\n",
        "- 02 Dummy(int) Variable, Geopgraphy\n",
        "- 03 sc.transform으로의 스케일링!"
      ],
      "metadata": {
        "id": "3vLNi6cyrUyD"
      }
    },
    {
      "cell_type": "markdown",
      "metadata": {
        "id": "u7yx47jPZt11"
      },
      "source": [
        "### Predicting the Test set results"
      ]
    },
    {
      "cell_type": "code",
      "source": [
        "y_pred = ann.predict(X_test)\n",
        "y_pred =(y_pred>0.5) #Boolean값으로 변형\n",
        "print(np.concatenate((y_pred.reshape(len(y_pred),1), y_test.reshape(len(y_test), 1)), 1))\n",
        "# concatenate : attach array\n",
        "## axis=1로, rows로 붙힌다 : i x n\n",
        "\n",
        "# reshape으로 (1000,) => (1000,1)"
      ],
      "metadata": {
        "id": "pYhl6L8atD4h",
        "outputId": "1a231a1f-5c45-4cfc-a8aa-33ce1d7f9f59",
        "colab": {
          "base_uri": "https://localhost:8080/"
        }
      },
      "execution_count": 49,
      "outputs": [
        {
          "output_type": "stream",
          "name": "stdout",
          "text": [
            "\u001b[1m63/63\u001b[0m \u001b[32m━━━━━━━━━━━━━━━━━━━━\u001b[0m\u001b[37m\u001b[0m \u001b[1m0s\u001b[0m 5ms/step\n",
            "[[0 0]\n",
            " [0 1]\n",
            " [0 0]\n",
            " ...\n",
            " [0 0]\n",
            " [0 0]\n",
            " [0 0]]\n"
          ]
        }
      ]
    },
    {
      "cell_type": "markdown",
      "metadata": {
        "id": "o0oyfLWoaEGw"
      },
      "source": [
        "### Making the Confusion Matrix"
      ]
    },
    {
      "cell_type": "code",
      "source": [
        "from sklearn.metrics import confusion_matrix, accuracy_score\n",
        "cm = confusion_matrix(y_test, y_pred)\n",
        "print(cm)\n",
        "accuracy_score(y_test, y_pred)"
      ],
      "metadata": {
        "id": "w4kEwkriu-OH",
        "outputId": "419a0334-3dec-46f7-8032-2ebc11944cb7",
        "colab": {
          "base_uri": "https://localhost:8080/"
        }
      },
      "execution_count": 50,
      "outputs": [
        {
          "output_type": "stream",
          "name": "stdout",
          "text": [
            "[[1496   99]\n",
            " [ 183  222]]\n"
          ]
        },
        {
          "output_type": "execute_result",
          "data": {
            "text/plain": [
              "0.859"
            ]
          },
          "metadata": {},
          "execution_count": 50
        }
      ]
    },
    {
      "cell_type": "markdown",
      "source": [
        "새로운 Test, Y에 넣었을때\n",
        "0.859정도 나옴!\n"
      ],
      "metadata": {
        "id": "oZJLiTMLvPXI"
      }
    }
  ]
}