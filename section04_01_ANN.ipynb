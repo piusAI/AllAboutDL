{
  "nbformat": 4,
  "nbformat_minor": 0,
  "metadata": {
    "colab": {
      "provenance": [],
      "gpuType": "T4",
      "include_colab_link": true
    },
    "kernelspec": {
      "name": "python3",
      "display_name": "Python 3"
    },
    "accelerator": "GPU"
  },
  "cells": [
    {
      "cell_type": "markdown",
      "metadata": {
        "id": "view-in-github",
        "colab_type": "text"
      },
      "source": [
        "<a href=\"https://colab.research.google.com/github/piusAI/AllAboutDL/blob/main/section04_01_ANN.ipynb\" target=\"_parent\"><img src=\"https://colab.research.google.com/assets/colab-badge.svg\" alt=\"Open In Colab\"/></a>"
      ]
    },
    {
      "cell_type": "markdown",
      "metadata": {
        "id": "lP6JLo1tGNBg"
      },
      "source": [
        "# Artificial Neural Network"
      ]
    },
    {
      "cell_type": "markdown",
      "metadata": {
        "id": "gWZyYmS_UE_L"
      },
      "source": [
        "### Importing the libraries"
      ]
    },
    {
      "cell_type": "code",
      "source": [
        "import numpy as np\n",
        "import pandas as pd\n",
        "import tensorflow as tf"
      ],
      "metadata": {
        "id": "jUx_D1YXj0g9"
      },
      "execution_count": null,
      "outputs": []
    },
    {
      "cell_type": "code",
      "source": [
        "tf.__version__"
      ],
      "metadata": {
        "id": "7a1WyL1qkGp8",
        "outputId": "f0c8276e-001f-4dd9-a9c4-721aa5c6c2fb",
        "colab": {
          "base_uri": "https://localhost:8080/",
          "height": 36
        }
      },
      "execution_count": null,
      "outputs": [
        {
          "output_type": "execute_result",
          "data": {
            "text/plain": [
              "'2.18.0'"
            ],
            "application/vnd.google.colaboratory.intrinsic+json": {
              "type": "string"
            }
          },
          "metadata": {},
          "execution_count": 2
        }
      ]
    },
    {
      "cell_type": "markdown",
      "metadata": {
        "id": "1E0Q3aoKUCRX"
      },
      "source": [
        "## Part 1 - Data Preprocessing"
      ]
    },
    {
      "cell_type": "markdown",
      "metadata": {
        "id": "cKWAkFVGUU0Z"
      },
      "source": [
        "### Importing the dataset"
      ]
    },
    {
      "cell_type": "code",
      "source": [
        "dataset = pd.read_csv('Churn_Modelling.csv')\n",
        "X = dataset.iloc[:, 3:-1].values\n",
        "y = dataset.iloc[:, -1].values\n"
      ],
      "metadata": {
        "id": "RFfcZkLPoHnm",
        "outputId": "7101a6bf-1c8f-4043-994a-50a64cf70bac",
        "colab": {
          "base_uri": "https://localhost:8080/"
        }
      },
      "execution_count": null,
      "outputs": [
        {
          "output_type": "stream",
          "name": "stdout",
          "text": [
            "<class 'pandas.core.series.Series'>\n"
          ]
        }
      ]
    },
    {
      "cell_type": "markdown",
      "source": [
        ".iloc :  Extract entire data frame"
      ],
      "metadata": {
        "id": "7ckqqZMAya0-"
      }
    },
    {
      "cell_type": "code",
      "source": [
        "print(type(dataset.iloc[:,3:-1]))"
      ],
      "metadata": {
        "id": "OpIl51Vb0VMd",
        "outputId": "c46c25d9-f5cd-4de1-f381-1df520debf75",
        "colab": {
          "base_uri": "https://localhost:8080/"
        }
      },
      "execution_count": null,
      "outputs": [
        {
          "output_type": "stream",
          "name": "stdout",
          "text": [
            "<class 'pandas.core.frame.DataFrame'>\n"
          ]
        }
      ]
    },
    {
      "cell_type": "markdown",
      "source": [
        ".values를 잡아주지 않으면 그냥 Pandas.dataFrame이 나옴\n",
        "\n",
        "Pandas DataFrame : row-column으로의 table Data"
      ],
      "metadata": {
        "id": "DTiFXI6P0Wik"
      }
    },
    {
      "cell_type": "code",
      "source": [
        "print(\"Feature:\\n\", X)\n",
        "\n",
        "print(\"\\n Leave Parm: \\n\", y)"
      ],
      "metadata": {
        "id": "oyO9QlGryObR",
        "outputId": "188ea8e4-82d7-4a52-8f33-738aa441e92c",
        "colab": {
          "base_uri": "https://localhost:8080/"
        }
      },
      "execution_count": null,
      "outputs": [
        {
          "output_type": "stream",
          "name": "stdout",
          "text": [
            "Feature:\n",
            " [[619 'France' 'Female' ... 1 1 101348.88]\n",
            " [608 'Spain' 'Female' ... 0 1 112542.58]\n",
            " [502 'France' 'Female' ... 1 0 113931.57]\n",
            " ...\n",
            " [709 'France' 'Female' ... 0 1 42085.58]\n",
            " [772 'Germany' 'Male' ... 1 0 92888.52]\n",
            " [792 'France' 'Female' ... 1 0 38190.78]]\n",
            "\n",
            " Leave Parm: \n",
            " [1 0 1 ... 1 1 0]\n"
          ]
        }
      ]
    },
    {
      "cell_type": "markdown",
      "source": [
        "Label = Leave Param을 예측하기 위한 Classification\n",
        "\n",
        "고객이 빠져나가는지 확인하기 위해!"
      ],
      "metadata": {
        "id": "nfWfhUMg3bCH"
      }
    },
    {
      "cell_type": "markdown",
      "metadata": {
        "id": "N6bQ0UgSU-NJ"
      },
      "source": [
        "### Encoding categorical data"
      ]
    },
    {
      "cell_type": "markdown",
      "metadata": {
        "id": "le5MJreAbW52"
      },
      "source": [
        "Label Encoding the \"Gender\" column"
      ]
    },
    {
      "cell_type": "code",
      "source": [
        "from sklearn.preprocessing import LabelEncoder\n",
        "le = LabelEncoder()\n",
        "X[:,2] = le.fit_transform(X[:,2]) # Exchange Female:0, Male:1"
      ],
      "metadata": {
        "id": "0gUOmjFOIMFe"
      },
      "execution_count": 15,
      "outputs": []
    },
    {
      "cell_type": "markdown",
      "source": [
        "LabelEncoder\n",
        "\n",
        "Male, Female과 같은 string=> int"
      ],
      "metadata": {
        "id": "S98D2a6I6Xc6"
      }
    },
    {
      "cell_type": "markdown",
      "source": [
        "| 메서드               | 하는 일                                                            | 예시                              |\n",
        "| ----------------- | --------------------------------------------------------------- | ------------------------------- |\n",
        "| `fit()`           | 데이터에서 변환 기준을 **학습**  | `['Male', 'Female']` → 매핑 기억만 함 |\n",
        "| `transform()`     | **이미 학습한 기준으로 변환만 수행**                                          | `['Male', 'Female']` → `[1, 0]` |\n",
        "| `fit_transform()` | 위 두 과정을 **한 번에 처리** (학습 + 변환)                                   | `['Male', 'Female']` → `[1, 0]` |\n",
        "\n",
        "-> fit은 그냥 string -> int이상의 의미를 가짐.\n",
        "\n",
        "알아서 어떤 기준을 갖고 기계가 스스로 결정!"
      ],
      "metadata": {
        "id": "Jap1pZf27uuy"
      }
    },
    {
      "cell_type": "code",
      "source": [
        "print(X[:,2])"
      ],
      "metadata": {
        "id": "NSH3iK3T6qbb",
        "outputId": "52687e42-1503-4668-ea5b-e5f43b7b3e76",
        "colab": {
          "base_uri": "https://localhost:8080/"
        }
      },
      "execution_count": 21,
      "outputs": [
        {
          "output_type": "stream",
          "name": "stdout",
          "text": [
            "[0 0 0 ... 0 1 0]\n"
          ]
        }
      ]
    },
    {
      "cell_type": "code",
      "source": [
        "print(X)"
      ],
      "metadata": {
        "id": "62ojurgbIx2A",
        "outputId": "5e47b201-b10b-4e1b-ec05-7bc6a2776ced",
        "colab": {
          "base_uri": "https://localhost:8080/"
        }
      },
      "execution_count": 16,
      "outputs": [
        {
          "output_type": "stream",
          "name": "stdout",
          "text": [
            "[[619 'France' 0 ... 1 1 101348.88]\n",
            " [608 'Spain' 0 ... 0 1 112542.58]\n",
            " [502 'France' 0 ... 1 0 113931.57]\n",
            " ...\n",
            " [709 'France' 0 ... 0 1 42085.58]\n",
            " [772 'Germany' 1 ... 1 0 92888.52]\n",
            " [792 'France' 0 ... 1 0 38190.78]]\n"
          ]
        }
      ]
    },
    {
      "cell_type": "markdown",
      "metadata": {
        "id": "CUxGZezpbMcb"
      },
      "source": [
        "One Hot Encoding the \"Geography\" column"
      ]
    },
    {
      "cell_type": "code",
      "source": [
        "from sklearn.compose import ColumnTransformer\n",
        "from sklearn.preprocessing import OneHotEncoder\n",
        "ct = ColumnTransformer(transformers=[('encoder', OneHotEncoder(), [1])], remainder = 'passthrough')\n",
        "X = np.array(ct.fit_transform(X))\n"
      ],
      "metadata": {
        "id": "562DZi1x76Y7",
        "outputId": "87db863a-9538-499d-f106-34c0c55f473d",
        "colab": {
          "base_uri": "https://localhost:8080/"
        }
      },
      "execution_count": 30,
      "outputs": [
        {
          "output_type": "stream",
          "name": "stdout",
          "text": [
            "[[1.0 0.0 1.0 ... 1 1 101348.88]\n",
            " [1.0 0.0 1.0 ... 0 1 112542.58]\n",
            " [1.0 0.0 1.0 ... 1 0 113931.57]\n",
            " ...\n",
            " [1.0 0.0 1.0 ... 0 1 42085.58]\n",
            " [0.0 1.0 0.0 ... 1 0 92888.52]\n",
            " [1.0 0.0 1.0 ... 1 0 38190.78]]\n"
          ]
        }
      ]
    },
    {
      "cell_type": "code",
      "source": [
        "print(ct.fit_transform(X)) #보통 sparese matrix로 나오기도해서"
      ],
      "metadata": {
        "id": "GNJ_waI1-9LS",
        "outputId": "9e8fdaba-b189-4007-d63c-7deba9d6a5b1",
        "colab": {
          "base_uri": "https://localhost:8080/"
        }
      },
      "execution_count": 31,
      "outputs": [
        {
          "output_type": "stream",
          "name": "stdout",
          "text": [
            "[[1.0 0.0 1.0 ... 1 1 101348.88]\n",
            " [1.0 0.0 1.0 ... 0 1 112542.58]\n",
            " [1.0 0.0 1.0 ... 1 0 113931.57]\n",
            " ...\n",
            " [1.0 0.0 1.0 ... 0 1 42085.58]\n",
            " [0.0 1.0 0.0 ... 1 0 92888.52]\n",
            " [1.0 0.0 1.0 ... 1 0 38190.78]]\n"
          ]
        }
      ]
    },
    {
      "cell_type": "markdown",
      "source": [
        "<Preprocess, Template 활용해서>\n",
        "\n",
        "Geopgraphy, 지역을 one-hot code로 수정함"
      ],
      "metadata": {
        "id": "XyHXTT0eP8k6"
      }
    },
    {
      "cell_type": "code",
      "source": [
        "print(X)"
      ],
      "metadata": {
        "id": "KUIQ5Qf0PVt-",
        "outputId": "e28adfbd-acf5-40c4-9d08-ec2a0c2b7eaa",
        "colab": {
          "base_uri": "https://localhost:8080/"
        }
      },
      "execution_count": 29,
      "outputs": [
        {
          "output_type": "stream",
          "name": "stdout",
          "text": [
            "[[1.0 0.0 1.0 ... 1 1 101348.88]\n",
            " [1.0 0.0 0.0 ... 0 1 112542.58]\n",
            " [1.0 0.0 1.0 ... 1 0 113931.57]\n",
            " ...\n",
            " [1.0 0.0 1.0 ... 0 1 42085.58]\n",
            " [0.0 1.0 0.0 ... 1 0 92888.52]\n",
            " [1.0 0.0 1.0 ... 1 0 38190.78]]\n"
          ]
        }
      ]
    },
    {
      "cell_type": "markdown",
      "metadata": {
        "id": "vHol938cW8zd"
      },
      "source": [
        "### Splitting the dataset into the Training set and Test set"
      ]
    },
    {
      "cell_type": "code",
      "source": [
        "from sklearn.model_selection import train_test_split\n",
        "X_train, X_test, y_train, y_test = train_test_split(X, y, test_size = 0.2, random_state=0)"
      ],
      "metadata": {
        "id": "b9A0Ff-Q_N2r"
      },
      "execution_count": 32,
      "outputs": []
    },
    {
      "cell_type": "markdown",
      "metadata": {
        "id": "RE_FcHyfV3TQ"
      },
      "source": [
        "### Feature Scaling"
      ]
    },
    {
      "cell_type": "code",
      "source": [
        "from sklearn.preprocessing import StandardScaler\n",
        "sc = StandardScaler()\n",
        "X_train = sc.fit_transform(X_train)\n",
        "X_test = sc.transform(X_test)"
      ],
      "metadata": {
        "id": "aYsjGCE2_ugb"
      },
      "execution_count": 33,
      "outputs": []
    },
    {
      "cell_type": "markdown",
      "source": [
        "Standard Scaler!\n",
        "\n",
        "- 특성 1: 나이 = [20, 30, 40]\n",
        "- 특성 2: 연봉 = [30,000,000, 60,000,000, 100,000,000]\n",
        "\n",
        "이렇게 각각의 Feature Scale의 차이를 없애주는것\n",
        "\n",
        "\n",
        "```\n",
        "# X_scaled = (X - 평균) / 표준편차\n",
        "\n",
        "```\n",
        "\n",
        "\n",
        "\n",
        "| 특성 | 평균  | 표준편차 | 스케일링 결과              |\n",
        "| -- | --- | ---- | -------------------- |\n",
        "| 나이 | 30  | 10   | \\[-1, 0, 1]          |\n",
        "| 연봉 | 63M | 29M  | \\[-1.14, -0.1, 1.24] |\n"
      ],
      "metadata": {
        "id": "4N9ZUhHiR2B9"
      }
    },
    {
      "cell_type": "markdown",
      "source": [
        "-> Train data에만 standardscaler해주기!"
      ],
      "metadata": {
        "id": "9TVkr9daAUar"
      }
    },
    {
      "cell_type": "markdown",
      "metadata": {
        "id": "-zfEzkRVXIwF"
      },
      "source": [
        "## Part 2 - Building the ANN"
      ]
    },
    {
      "cell_type": "markdown",
      "metadata": {
        "id": "KvdeScabXtlB"
      },
      "source": [
        "### Initializing the ANN"
      ]
    },
    {
      "cell_type": "code",
      "source": [
        "ann = tf.keras.models.Sequential()\n",
        "# integrated Keras, into tf"
      ],
      "metadata": {
        "id": "kBv8wWXB6zs8"
      },
      "execution_count": null,
      "outputs": []
    },
    {
      "cell_type": "markdown",
      "metadata": {
        "id": "rP6urV6SX7kS"
      },
      "source": [
        "### Adding the input layer and the first hidden layer"
      ]
    },
    {
      "cell_type": "code",
      "source": [
        "ann.add(tf.keras.layers.Dense(units = 6, activation='relu'))"
      ],
      "metadata": {
        "id": "onUt_QRP-ICD"
      },
      "execution_count": null,
      "outputs": []
    },
    {
      "cell_type": "markdown",
      "metadata": {
        "id": "BELWAc_8YJze"
      },
      "source": [
        "### Adding the second hidden layer"
      ]
    },
    {
      "cell_type": "code",
      "source": [
        "ann.add(tf.keras.layers.Dense(units = 6, activation = 'relu'))"
      ],
      "metadata": {
        "id": "PkxN0pXFAgST"
      },
      "execution_count": null,
      "outputs": []
    },
    {
      "cell_type": "markdown",
      "metadata": {
        "id": "OyNEe6RXYcU4"
      },
      "source": [
        "### Adding the output layer"
      ]
    },
    {
      "cell_type": "code",
      "source": [
        "ann.add(tf.keras.layers.Dense(units =1, activation = 'sigmoid'))"
      ],
      "metadata": {
        "id": "1IaPTYGTpG0g"
      },
      "execution_count": null,
      "outputs": []
    },
    {
      "cell_type": "markdown",
      "source": [
        "=> Regression하면 최종적으로 연속적인 실수 예측해야해서 Activation 함수 안했다"
      ],
      "metadata": {
        "id": "VE4UY64VpV-S"
      }
    },
    {
      "cell_type": "markdown",
      "metadata": {
        "id": "JT4u2S1_Y4WG"
      },
      "source": [
        "## Part 3 - Training the ANN"
      ]
    },
    {
      "cell_type": "markdown",
      "metadata": {
        "id": "8GWlJChhY_ZI"
      },
      "source": [
        "### Compiling the ANN"
      ]
    },
    {
      "cell_type": "markdown",
      "source": [
        "Optimizer?"
      ],
      "metadata": {
        "id": "A2ccawitpot0"
      }
    },
    {
      "cell_type": "code",
      "source": [
        "ann.compile(optimizer='adam', loss = \"mean_squared_error\")"
      ],
      "metadata": {
        "id": "lJhXtDL0pkv0"
      },
      "execution_count": null,
      "outputs": []
    },
    {
      "cell_type": "markdown",
      "source": [
        "adam algorithm으로 MSE 로 loss function잡음"
      ],
      "metadata": {
        "id": "na_jCEqYqgoT"
      }
    },
    {
      "cell_type": "markdown",
      "metadata": {
        "id": "0QR_G5u7ZLSM"
      },
      "source": [
        "### Training the ANN on the Training set"
      ]
    },
    {
      "cell_type": "code",
      "source": [
        "ann.fit(x_train, y_train, batch_size = 32, epochs = 100)"
      ],
      "metadata": {
        "id": "q0HgvDypqreE"
      },
      "execution_count": null,
      "outputs": []
    },
    {
      "cell_type": "markdown",
      "metadata": {
        "id": "tJj5k2MxZga3"
      },
      "source": [
        "## Part 4 - Making the predictions and evaluating the model"
      ]
    },
    {
      "cell_type": "markdown",
      "metadata": {
        "id": "84QFoqGYeXHL"
      },
      "source": [
        "### Predicting the result of a single observation"
      ]
    },
    {
      "cell_type": "code",
      "source": [
        "y_pred = ann.predict(x_test, batch_size=32)\n",
        "np.set_printoptions(precision=2) # 소수점 두개만 parameter로\n",
        "print( np.concatenate(( y_pred.reshape(len(y_pred), 1), y_test.reshape(len(y_test),1)),1 ) )\n",
        " # concatenate를 활용해서\n",
        " # [Predict - Label] 확인"
      ],
      "metadata": {
        "id": "E3Zber2_sWkJ"
      },
      "execution_count": null,
      "outputs": []
    },
    {
      "cell_type": "markdown",
      "metadata": {
        "id": "CGRo3eacgDdC"
      },
      "source": [
        "**Homework**\n",
        "\n",
        "Use our ANN model to predict if the customer with the following informations will leave the bank:\n",
        "\n",
        "Geography: France\n",
        "\n",
        "Credit Score: 600\n",
        "\n",
        "Gender: Male\n",
        "\n",
        "Age: 40 years old\n",
        "\n",
        "Tenure: 3 years\n",
        "\n",
        "Balance: \\$ 60000\n",
        "\n",
        "Number of Products: 2\n",
        "\n",
        "Does this customer have a credit card? Yes\n",
        "\n",
        "Is this customer an Active Member: Yes\n",
        "\n",
        "Estimated Salary: \\$ 50000\n",
        "\n",
        "So, should we say goodbye to that customer?"
      ]
    },
    {
      "cell_type": "markdown",
      "metadata": {
        "id": "ZhU1LTgPg-kH"
      },
      "source": [
        "**Solution**"
      ]
    },
    {
      "cell_type": "markdown",
      "metadata": {
        "id": "wGjx94g2n7OV"
      },
      "source": [
        "Therefore, our ANN model predicts that this customer stays in the bank!\n",
        "\n",
        "**Important note 1:** Notice that the values of the features were all input in a double pair of square brackets. That's because the \"predict\" method always expects a 2D array as the format of its inputs. And putting our values into a double pair of square brackets makes the input exactly a 2D array.\n",
        "\n",
        "**Important note 2:** Notice also that the \"France\" country was not input as a string in the last column but as \"1, 0, 0\" in the first three columns. That's because of course the predict method expects the one-hot-encoded values of the state, and as we see in the first row of the matrix of features X, \"France\" was encoded as \"1, 0, 0\". And be careful to include these values in the first three columns, because the dummy variables are always created in the first columns."
      ]
    },
    {
      "cell_type": "markdown",
      "metadata": {
        "id": "u7yx47jPZt11"
      },
      "source": [
        "### Predicting the Test set results"
      ]
    },
    {
      "cell_type": "markdown",
      "metadata": {
        "id": "o0oyfLWoaEGw"
      },
      "source": [
        "### Making the Confusion Matrix"
      ]
    }
  ]
}