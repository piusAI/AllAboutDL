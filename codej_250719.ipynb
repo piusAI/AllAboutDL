{
  "nbformat": 4,
  "nbformat_minor": 0,
  "metadata": {
    "colab": {
      "provenance": [],
      "gpuType": "T4",
      "authorship_tag": "ABX9TyN5/UDfkvNas7NoBcMgRz8k",
      "include_colab_link": true
    },
    "kernelspec": {
      "name": "python3",
      "display_name": "Python 3"
    },
    "language_info": {
      "name": "python"
    },
    "accelerator": "GPU"
  },
  "cells": [
    {
      "cell_type": "markdown",
      "metadata": {
        "id": "view-in-github",
        "colab_type": "text"
      },
      "source": [
        "<a href=\"https://colab.research.google.com/github/piusAI/AllAboutDL/blob/main/codej_250719.ipynb\" target=\"_parent\"><img src=\"https://colab.research.google.com/assets/colab-badge.svg\" alt=\"Open In Colab\"/></a>"
      ]
    },
    {
      "cell_type": "code",
      "execution_count": null,
      "metadata": {
        "id": "dsg4xUoOZgn9"
      },
      "outputs": [],
      "source": [
        "## check YOLO dataset"
      ]
    },
    {
      "cell_type": "code",
      "source": [
        "!pip install ultralytics\n",
        "from ultralytics import YOLO"
      ],
      "metadata": {
        "colab": {
          "base_uri": "https://localhost:8080/"
        },
        "collapsed": true,
        "id": "YQC4PyvSZmmo",
        "outputId": "42ff9cba-ac4f-4191-c6ff-29b137f4f605"
      },
      "execution_count": null,
      "outputs": [
        {
          "output_type": "stream",
          "name": "stdout",
          "text": [
            "Requirement already satisfied: ultralytics in /usr/local/lib/python3.11/dist-packages (8.3.168)\n",
            "Requirement already satisfied: numpy>=1.23.0 in /usr/local/lib/python3.11/dist-packages (from ultralytics) (2.0.2)\n",
            "Requirement already satisfied: matplotlib>=3.3.0 in /usr/local/lib/python3.11/dist-packages (from ultralytics) (3.10.0)\n",
            "Requirement already satisfied: opencv-python>=4.6.0 in /usr/local/lib/python3.11/dist-packages (from ultralytics) (4.11.0.86)\n",
            "Requirement already satisfied: pillow>=7.1.2 in /usr/local/lib/python3.11/dist-packages (from ultralytics) (11.2.1)\n",
            "Requirement already satisfied: pyyaml>=5.3.1 in /usr/local/lib/python3.11/dist-packages (from ultralytics) (6.0.2)\n",
            "Requirement already satisfied: requests>=2.23.0 in /usr/local/lib/python3.11/dist-packages (from ultralytics) (2.32.3)\n",
            "Requirement already satisfied: scipy>=1.4.1 in /usr/local/lib/python3.11/dist-packages (from ultralytics) (1.15.3)\n",
            "Requirement already satisfied: torch>=1.8.0 in /usr/local/lib/python3.11/dist-packages (from ultralytics) (2.6.0+cu124)\n",
            "Requirement already satisfied: torchvision>=0.9.0 in /usr/local/lib/python3.11/dist-packages (from ultralytics) (0.21.0+cu124)\n",
            "Requirement already satisfied: tqdm>=4.64.0 in /usr/local/lib/python3.11/dist-packages (from ultralytics) (4.67.1)\n",
            "Requirement already satisfied: psutil in /usr/local/lib/python3.11/dist-packages (from ultralytics) (5.9.5)\n",
            "Requirement already satisfied: py-cpuinfo in /usr/local/lib/python3.11/dist-packages (from ultralytics) (9.0.0)\n",
            "Requirement already satisfied: pandas>=1.1.4 in /usr/local/lib/python3.11/dist-packages (from ultralytics) (2.2.2)\n",
            "Requirement already satisfied: ultralytics-thop>=2.0.0 in /usr/local/lib/python3.11/dist-packages (from ultralytics) (2.0.14)\n",
            "Requirement already satisfied: contourpy>=1.0.1 in /usr/local/lib/python3.11/dist-packages (from matplotlib>=3.3.0->ultralytics) (1.3.2)\n",
            "Requirement already satisfied: cycler>=0.10 in /usr/local/lib/python3.11/dist-packages (from matplotlib>=3.3.0->ultralytics) (0.12.1)\n",
            "Requirement already satisfied: fonttools>=4.22.0 in /usr/local/lib/python3.11/dist-packages (from matplotlib>=3.3.0->ultralytics) (4.58.5)\n",
            "Requirement already satisfied: kiwisolver>=1.3.1 in /usr/local/lib/python3.11/dist-packages (from matplotlib>=3.3.0->ultralytics) (1.4.8)\n",
            "Requirement already satisfied: packaging>=20.0 in /usr/local/lib/python3.11/dist-packages (from matplotlib>=3.3.0->ultralytics) (25.0)\n",
            "Requirement already satisfied: pyparsing>=2.3.1 in /usr/local/lib/python3.11/dist-packages (from matplotlib>=3.3.0->ultralytics) (3.2.3)\n",
            "Requirement already satisfied: python-dateutil>=2.7 in /usr/local/lib/python3.11/dist-packages (from matplotlib>=3.3.0->ultralytics) (2.9.0.post0)\n",
            "Requirement already satisfied: pytz>=2020.1 in /usr/local/lib/python3.11/dist-packages (from pandas>=1.1.4->ultralytics) (2025.2)\n",
            "Requirement already satisfied: tzdata>=2022.7 in /usr/local/lib/python3.11/dist-packages (from pandas>=1.1.4->ultralytics) (2025.2)\n",
            "Requirement already satisfied: charset-normalizer<4,>=2 in /usr/local/lib/python3.11/dist-packages (from requests>=2.23.0->ultralytics) (3.4.2)\n",
            "Requirement already satisfied: idna<4,>=2.5 in /usr/local/lib/python3.11/dist-packages (from requests>=2.23.0->ultralytics) (3.10)\n",
            "Requirement already satisfied: urllib3<3,>=1.21.1 in /usr/local/lib/python3.11/dist-packages (from requests>=2.23.0->ultralytics) (2.4.0)\n",
            "Requirement already satisfied: certifi>=2017.4.17 in /usr/local/lib/python3.11/dist-packages (from requests>=2.23.0->ultralytics) (2025.7.14)\n",
            "Requirement already satisfied: filelock in /usr/local/lib/python3.11/dist-packages (from torch>=1.8.0->ultralytics) (3.18.0)\n",
            "Requirement already satisfied: typing-extensions>=4.10.0 in /usr/local/lib/python3.11/dist-packages (from torch>=1.8.0->ultralytics) (4.14.1)\n",
            "Requirement already satisfied: networkx in /usr/local/lib/python3.11/dist-packages (from torch>=1.8.0->ultralytics) (3.5)\n",
            "Requirement already satisfied: jinja2 in /usr/local/lib/python3.11/dist-packages (from torch>=1.8.0->ultralytics) (3.1.6)\n",
            "Requirement already satisfied: fsspec in /usr/local/lib/python3.11/dist-packages (from torch>=1.8.0->ultralytics) (2025.3.2)\n",
            "Requirement already satisfied: nvidia-cuda-nvrtc-cu12==12.4.127 in /usr/local/lib/python3.11/dist-packages (from torch>=1.8.0->ultralytics) (12.4.127)\n",
            "Requirement already satisfied: nvidia-cuda-runtime-cu12==12.4.127 in /usr/local/lib/python3.11/dist-packages (from torch>=1.8.0->ultralytics) (12.4.127)\n",
            "Requirement already satisfied: nvidia-cuda-cupti-cu12==12.4.127 in /usr/local/lib/python3.11/dist-packages (from torch>=1.8.0->ultralytics) (12.4.127)\n",
            "Requirement already satisfied: nvidia-cudnn-cu12==9.1.0.70 in /usr/local/lib/python3.11/dist-packages (from torch>=1.8.0->ultralytics) (9.1.0.70)\n",
            "Requirement already satisfied: nvidia-cublas-cu12==12.4.5.8 in /usr/local/lib/python3.11/dist-packages (from torch>=1.8.0->ultralytics) (12.4.5.8)\n",
            "Requirement already satisfied: nvidia-cufft-cu12==11.2.1.3 in /usr/local/lib/python3.11/dist-packages (from torch>=1.8.0->ultralytics) (11.2.1.3)\n",
            "Requirement already satisfied: nvidia-curand-cu12==10.3.5.147 in /usr/local/lib/python3.11/dist-packages (from torch>=1.8.0->ultralytics) (10.3.5.147)\n",
            "Requirement already satisfied: nvidia-cusolver-cu12==11.6.1.9 in /usr/local/lib/python3.11/dist-packages (from torch>=1.8.0->ultralytics) (11.6.1.9)\n",
            "Requirement already satisfied: nvidia-cusparse-cu12==12.3.1.170 in /usr/local/lib/python3.11/dist-packages (from torch>=1.8.0->ultralytics) (12.3.1.170)\n",
            "Requirement already satisfied: nvidia-cusparselt-cu12==0.6.2 in /usr/local/lib/python3.11/dist-packages (from torch>=1.8.0->ultralytics) (0.6.2)\n",
            "Requirement already satisfied: nvidia-nccl-cu12==2.21.5 in /usr/local/lib/python3.11/dist-packages (from torch>=1.8.0->ultralytics) (2.21.5)\n",
            "Requirement already satisfied: nvidia-nvtx-cu12==12.4.127 in /usr/local/lib/python3.11/dist-packages (from torch>=1.8.0->ultralytics) (12.4.127)\n",
            "Requirement already satisfied: nvidia-nvjitlink-cu12==12.4.127 in /usr/local/lib/python3.11/dist-packages (from torch>=1.8.0->ultralytics) (12.4.127)\n",
            "Requirement already satisfied: triton==3.2.0 in /usr/local/lib/python3.11/dist-packages (from torch>=1.8.0->ultralytics) (3.2.0)\n",
            "Requirement already satisfied: sympy==1.13.1 in /usr/local/lib/python3.11/dist-packages (from torch>=1.8.0->ultralytics) (1.13.1)\n",
            "Requirement already satisfied: mpmath<1.4,>=1.1.0 in /usr/local/lib/python3.11/dist-packages (from sympy==1.13.1->torch>=1.8.0->ultralytics) (1.3.0)\n",
            "Requirement already satisfied: six>=1.5 in /usr/local/lib/python3.11/dist-packages (from python-dateutil>=2.7->matplotlib>=3.3.0->ultralytics) (1.17.0)\n",
            "Requirement already satisfied: MarkupSafe>=2.0 in /usr/local/lib/python3.11/dist-packages (from jinja2->torch>=1.8.0->ultralytics) (3.0.2)\n"
          ]
        }
      ]
    },
    {
      "cell_type": "code",
      "source": [
        "model=YOLO('yolo11n-pose.pt')"
      ],
      "metadata": {
        "id": "l_8Shbl-Z6hb"
      },
      "execution_count": null,
      "outputs": []
    },
    {
      "cell_type": "code",
      "source": [
        "img='Ji.jpg'\n",
        "\n",
        "results = model.predict(img, conf=0.8, iou=0.25)\n",
        "results[0].save_txt('test.txt')"
      ],
      "metadata": {
        "colab": {
          "base_uri": "https://localhost:8080/",
          "height": 88
        },
        "id": "ZxThzmsIafih",
        "outputId": "3fb7b3e0-61dd-4c16-fcbb-feda3712234e"
      },
      "execution_count": null,
      "outputs": [
        {
          "output_type": "stream",
          "name": "stdout",
          "text": [
            "\n",
            "image 1/1 /content/Ji.jpg: 640x480 1 person, 135.2ms\n",
            "Speed: 9.1ms preprocess, 135.2ms inference, 280.2ms postprocess per image at shape (1, 3, 640, 480)\n"
          ]
        },
        {
          "output_type": "execute_result",
          "data": {
            "text/plain": [
              "'test.txt'"
            ],
            "application/vnd.google.colaboratory.intrinsic+json": {
              "type": "string"
            }
          },
          "metadata": {},
          "execution_count": 6
        }
      ]
    },
    {
      "cell_type": "code",
      "source": [
        "import torch\n",
        "\n",
        "for result in results:\n",
        "  obj_num = len(result.boxes)\n",
        "\n",
        "  if obj_num == 1:\n",
        "\n",
        "    for i in range(obj_num):\n",
        "      r_class = result.boxes.cls\n",
        "      r_xywhn = result.boxes.xywhn\n",
        "      r_kpts_conf = result.keypoints.conf\n",
        "      r_kpts_xy = result.keypoints.xyn\n",
        "\n",
        "      kpts_num = r_kpts_xy.shape[1]\n",
        "      print(kpts_num)\n",
        "      r_kpts = []\n",
        "      for idx in range(kpts_num):\n",
        "        xy_i = r_kpts_xy[i][idx]\n",
        "        conf_i = r_kpts_conf[i][idx].unsqueeze(-1)\n",
        "\n",
        "        kpts_i = torch.cat((xy_i, conf_i), dim=0)\n",
        "        r_kpts.append(kpts_i)\n",
        "        print(f'kpt{i+1} : {kpts_i.tolist()}')\n",
        "\n",
        "      r_kpts_tensor = torch.stack(r_kpts)\n",
        "      print(f'all kpts for object {obj_idx} : {r_kpts_tensor}')\n"
      ],
      "metadata": {
        "colab": {
          "base_uri": "https://localhost:8080/"
        },
        "id": "Xs5qEtP2eTi6",
        "outputId": "d42f576d-c855-4365-d810-05aca169dd8d"
      },
      "execution_count": null,
      "outputs": [
        {
          "output_type": "stream",
          "name": "stdout",
          "text": [
            "17\n",
            "kpt1 : [0.42321082949638367, 0.15455494821071625, 0.975811243057251]\n",
            "kpt1 : [0.4473299980163574, 0.12922316789627075, 0.8591005802154541]\n",
            "kpt1 : [0.3883821368217468, 0.1330929398536682, 0.9407287240028381]\n",
            "kpt1 : [0.4642060101032257, 0.1215243861079216, 0.23742279410362244]\n",
            "kpt1 : [0.31827032566070557, 0.12892670929431915, 0.7511647343635559]\n",
            "kpt1 : [0.4863925576210022, 0.19375868141651154, 0.9939571619033813]\n",
            "kpt1 : [0.22239017486572266, 0.22101514041423798, 0.9797098636627197]\n",
            "kpt1 : [0.6843876242637634, 0.21151888370513916, 0.9866973757743835]\n",
            "kpt1 : [0.09319159388542175, 0.3466481566429138, 0.913262665271759]\n",
            "kpt1 : [0.8683290481567383, 0.21306374669075012, 0.9815940856933594]\n",
            "kpt1 : [0.1055002510547638, 0.4567333161830902, 0.9367347955703735]\n",
            "kpt1 : [0.450979083776474, 0.508387565612793, 0.9989234805107117]\n",
            "kpt1 : [0.29226043820381165, 0.53054279088974, 0.997580885887146]\n",
            "kpt1 : [0.5513973236083984, 0.7034522891044617, 0.9920925498008728]\n",
            "kpt1 : [0.4195491075515747, 0.7253711223602295, 0.9833990335464478]\n",
            "kpt1 : [0.6237127780914307, 0.8550177812576294, 0.8665832281112671]\n",
            "kpt1 : [0.5080932974815369, 0.8889938592910767, 0.7725933194160461]\n",
            "all kpts for object 0 : tensor([[0.4232, 0.1546, 0.9758],\n",
            "        [0.4473, 0.1292, 0.8591],\n",
            "        [0.3884, 0.1331, 0.9407],\n",
            "        [0.4642, 0.1215, 0.2374],\n",
            "        [0.3183, 0.1289, 0.7512],\n",
            "        [0.4864, 0.1938, 0.9940],\n",
            "        [0.2224, 0.2210, 0.9797],\n",
            "        [0.6844, 0.2115, 0.9867],\n",
            "        [0.0932, 0.3466, 0.9133],\n",
            "        [0.8683, 0.2131, 0.9816],\n",
            "        [0.1055, 0.4567, 0.9367],\n",
            "        [0.4510, 0.5084, 0.9989],\n",
            "        [0.2923, 0.5305, 0.9976],\n",
            "        [0.5514, 0.7035, 0.9921],\n",
            "        [0.4195, 0.7254, 0.9834],\n",
            "        [0.6237, 0.8550, 0.8666],\n",
            "        [0.5081, 0.8890, 0.7726]], device='cuda:0')\n"
          ]
        }
      ]
    },
    {
      "cell_type": "code",
      "source": [
        "# <class> <x> <y> <width> <height> <px1> <py1> <p1_vis> ... <pxn> <pyn> <pn_vis>\n",
        "import torch\n",
        "import numpy as np\n",
        "\n",
        "r_kps=[]\n",
        "for result in results :\n",
        "  num_obj = len(result.boxes)\n",
        "  if num_obj == 1:\n",
        "\n",
        "\n",
        "    kp_conf = result.keypoints.conf\n",
        "    kp_xy= result.keypoints.xyn\n",
        "    num_kps = kp_xy.shape[1]\n",
        "\n",
        "    for obj_idx in range(num_obj):\n",
        "      r_class = result.boxes.cls[obj_idx]\n",
        "      r_x, r_y, r_width, r_height = result.boxes.xywhn[obj_idx]\n",
        "\n",
        "    for i in range(num_kps):\n",
        "      xy_i = kp_xy[obj_idx, i]\n",
        "      conf_i = kp_conf[obj_idx, i]\n",
        "      print(conf_i)\n",
        "\n",
        "      conf_i = kp_conf[obj_idx, i].unsqueeze(-1)\n",
        "      print(conf_i)\n",
        "      keypoint_i = torch.cat((xy_i, conf_i), dim=0)\n",
        "\n",
        "      r_kps.append(keypoint_i)\n",
        "      # print(f'keypoint {i+1} : {keypoint_i.tolist()}')\n",
        "    r_keypoints_tensor = torch.stack(r_kps)\n",
        "    # print(f'all keypoints for object {obj_idx} : {r_keypoints_tensor}')"
      ],
      "metadata": {
        "colab": {
          "base_uri": "https://localhost:8080/"
        },
        "id": "pHf7ER0keCIV",
        "outputId": "3682233e-cc5c-4fc7-8b13-eda62ae9f142"
      },
      "execution_count": null,
      "outputs": [
        {
          "output_type": "stream",
          "name": "stdout",
          "text": [
            "tensor(0.9758, device='cuda:0')\n",
            "tensor([0.9758], device='cuda:0')\n",
            "tensor(0.8591, device='cuda:0')\n",
            "tensor([0.8591], device='cuda:0')\n",
            "tensor(0.9407, device='cuda:0')\n",
            "tensor([0.9407], device='cuda:0')\n",
            "tensor(0.2374, device='cuda:0')\n",
            "tensor([0.2374], device='cuda:0')\n",
            "tensor(0.7512, device='cuda:0')\n",
            "tensor([0.7512], device='cuda:0')\n",
            "tensor(0.9940, device='cuda:0')\n",
            "tensor([0.9940], device='cuda:0')\n",
            "tensor(0.9797, device='cuda:0')\n",
            "tensor([0.9797], device='cuda:0')\n",
            "tensor(0.9867, device='cuda:0')\n",
            "tensor([0.9867], device='cuda:0')\n",
            "tensor(0.9133, device='cuda:0')\n",
            "tensor([0.9133], device='cuda:0')\n",
            "tensor(0.9816, device='cuda:0')\n",
            "tensor([0.9816], device='cuda:0')\n",
            "tensor(0.9367, device='cuda:0')\n",
            "tensor([0.9367], device='cuda:0')\n",
            "tensor(0.9989, device='cuda:0')\n",
            "tensor([0.9989], device='cuda:0')\n",
            "tensor(0.9976, device='cuda:0')\n",
            "tensor([0.9976], device='cuda:0')\n",
            "tensor(0.9921, device='cuda:0')\n",
            "tensor([0.9921], device='cuda:0')\n",
            "tensor(0.9834, device='cuda:0')\n",
            "tensor([0.9834], device='cuda:0')\n",
            "tensor(0.8666, device='cuda:0')\n",
            "tensor([0.8666], device='cuda:0')\n",
            "tensor(0.7726, device='cuda:0')\n",
            "tensor([0.7726], device='cuda:0')\n"
          ]
        }
      ]
    },
    {
      "cell_type": "markdown",
      "source": [
        "=> xy, conf붙힐려했는데 한번 더 감싸야 하는듯!"
      ],
      "metadata": {
        "id": "wwAneG5SnU1V"
      }
    },
    {
      "cell_type": "markdown",
      "source": [
        "test.txt:"
      ],
      "metadata": {
        "id": "mTjF_ZfxfSsE"
      }
    },
    {
      "cell_type": "markdown",
      "source": [
        "0 0.507903 0.499475 0.953769 0.993625 0.423211 0.154555 0.975811 0.44733 0.129223 0.859101 0.388382 0.133093 0.940729 0.464206 0.121524 0.237423 0.31827 0.128927 0.751165 0.486393 0.193759 0.993957 0.22239 0.221015 0.97971 0.684388 0.211519 0.986697 0.0931916 0.346648 0.913263 0.868329 0.213064 0.981594 0.1055 0.456733 0.936735 0.450979 0.508388 0.998923 0.29226 0.530543 0.997581 0.551397 0.703452 0.992093 0.419549 0.725371 0.983399 0.623713 0.855018 0.866583 0.508093 0.888994 0.772593"
      ],
      "metadata": {
        "id": "gjAf7zfbdyUQ"
      }
    },
    {
      "cell_type": "markdown",
      "source": [
        "## grok vibe Code"
      ],
      "metadata": {
        "id": "oApMo0-Zmqw4"
      }
    },
    {
      "cell_type": "code",
      "source": [
        "import torch  # tensor 操作 위해 (Ultralytics가 torch 기반이지만 명시 임포트)\n",
        "from ultralytics import YOLO  # YOLO 클래스 임포트\n",
        "\n",
        "# 1. 모델 로드 (pose 모델 – keypoints 추출 위해)\n",
        "model = YOLO('yolo11n-pose.pt')  # pretrained pose nano. 내부: task='pose' 설정, self.model에 nn.Module 로드.\n",
        "\n",
        "# 2. 예측 실행 (예시 – 실제로는 cap.read() frame 입력)\n",
        "# results = model.predict('path/to/image.jpg', conf=0.4, iou=0.45)  # 또는 네 비디오 프레임.\n",
        "# 가정: results 이미 있음 (네 이전 코드처럼).\n",
        "\n",
        "# 3. Results 루프 (각 이미지/프레임 처리 – results는 List[Results])\n",
        "for result in results:  # len(results) 보통 1 (single frame), but batch/multi-image 지원.\n",
        "    # 객체 수 확인 (num_objects = len(result.boxes))\n",
        "    num_objects = len(result.boxes)  # e.g., 1 if one person detected.\n",
        "    if num_objects == 0:\n",
        "        print(\"No objects detected.\")\n",
        "        continue  # 객체 없으면 스킵 – keypoints도 없음.\n",
        "\n",
        "    # keypoints 접근 (result.keypoints: Keypoints 객체)\n",
        "    kp_xy = result.keypoints.xyn  # shape: (num_objects, num_keypoints, 2) – normalized xy.\n",
        "    kp_conf = result.keypoints.conf  # shape: (num_objects, num_keypoints) – visibility/conf.\n",
        "    num_keypoints = kp_xy.shape[1]  # e.g., 17 for COCO.\n",
        "\n",
        "    # 객체 루프 (multi-object 지원 – 보통 0번 객체)\n",
        "    for obj_idx in range(num_objects):\n",
        "        # Class와 BBox 추출 (normalized – result.boxes.xywhn: (num_objects, 4))\n",
        "        r_class = result.boxes.cls[obj_idx]  # tensor scalar, e.g., 0 (person).\n",
        "        r_bbox = result.boxes.xywhn[obj_idx]  # tensor (4,): [x_center, y_center, width, height].\n",
        "        r_x, r_y, r_width, r_height = r_bbox  # unpack – 오타 고침 (r_hegit → r_height).\n",
        "\n",
        "        print(f'class: {r_class.item()}')  # .item()으로 scalar 변환 (tensor → float/int).\n",
        "        print(f'x: {r_x.item()}')\n",
        "        print(f'y: {r_y.item()}')\n",
        "        print(f'width: {r_width.item()}')\n",
        "        print(f'height: {r_height.item()}')\n",
        "\n",
        "        # Keypoints 루프 (각 keypoint i에 대해 xy[i] + conf[i] cat)\n",
        "        r_keypoints = []  # list로 모든 keypoint 모음 (or tensor stack).\n",
        "        for i in range(num_keypoints):\n",
        "            # obj_idx 객체의 i번 keypoint xy: kp_xy[obj_idx, i] – (2,)\n",
        "            xy_i = kp_xy[obj_idx, i]  # tensor [px, py].\n",
        "\n",
        "            # conf_i: kp_conf[obj_idx, i] – scalar, unsqueeze(-1)으로 (1,) → dim 맞춤.\n",
        "            conf_i = kp_conf[obj_idx, i].unsqueeze(-1)  # (1,) tensor.\n",
        "\n",
        "            # cat: xy_i (2,) + conf_i (1,) → (3,) [px, py, p_vis].\n",
        "            keypoint_i = torch.cat((xy_i, conf_i), dim=0)  # dim=0: 세로 붙임.\n",
        "\n",
        "            r_keypoints.append(keypoint_i)  # list 추가 – 나중에 tensor화 if 필요.\n",
        "            print(f'Keypoint {i+1}: {keypoint_i.tolist()}')  # [px, py, p_vis] 출력 – .tolist()로 list 변환.\n",
        "\n",
        "        # 전체 keypoints tensor (optional – (num_keypoints, 3))\n",
        "        r_keypoints_tensor = torch.stack(r_keypoints)  # list → tensor (17, 3).\n",
        "        print(f'All keypoints for object {obj_idx}: {r_keypoints_tensor}')"
      ],
      "metadata": {
        "colab": {
          "base_uri": "https://localhost:8080/"
        },
        "id": "I4mMzxZGa-Fp",
        "outputId": "db587681-c926-4d5e-9a2d-f3d5576b79b8"
      },
      "execution_count": null,
      "outputs": [
        {
          "output_type": "stream",
          "name": "stdout",
          "text": [
            "class: 0.0\n",
            "x: 0.39514702558517456\n",
            "y: 0.5217764377593994\n",
            "width: 0.454997181892395\n",
            "height: 0.8452656269073486\n",
            "Keypoint 1: [0.4967406690120697, 0.20241065323352814, 0.36338236927986145]\n",
            "Keypoint 2: [0.49129149317741394, 0.18468891084194183, 0.019234465435147285]\n",
            "Keypoint 3: [0.5005658864974976, 0.1865578591823578, 0.3188028335571289]\n",
            "Keypoint 4: [0.42790791392326355, 0.17306898534297943, 0.19619373977184296]\n",
            "Keypoint 5: [0.4887053966522217, 0.18604332208633423, 0.967747688293457]\n",
            "Keypoint 6: [0.3306882381439209, 0.24151931703090668, 0.9935165643692017]\n",
            "Keypoint 7: [0.4676341712474823, 0.274423211812973, 0.9988104104995728]\n",
            "Keypoint 8: [0.22017505764961243, 0.35669535398483276, 0.9323804378509521]\n",
            "Keypoint 9: [0.5107688903808594, 0.4336088299751282, 0.9908181428909302]\n",
            "Keypoint 10: [0.17927154898643494, 0.441179096698761, 0.8593749403953552]\n",
            "Keypoint 11: [0.5803928971290588, 0.5265860557556152, 0.9635399580001831]\n",
            "Keypoint 12: [0.25884899497032166, 0.49997809529304504, 0.9993973970413208]\n",
            "Keypoint 13: [0.3501637578010559, 0.5147185921669006, 0.9996802806854248]\n",
            "Keypoint 14: [0.34097832441329956, 0.6604931354522705, 0.9987568855285645]\n",
            "Keypoint 15: [0.48722004890441895, 0.673852264881134, 0.9994361996650696]\n",
            "Keypoint 16: [0.2589866518974304, 0.8494734168052673, 0.9853833913803101]\n",
            "Keypoint 17: [0.4323630928993225, 0.858245313167572, 0.9902156591415405]\n",
            "All keypoints for object 0: tensor([[0.4967, 0.2024, 0.3634],\n",
            "        [0.4913, 0.1847, 0.0192],\n",
            "        [0.5006, 0.1866, 0.3188],\n",
            "        [0.4279, 0.1731, 0.1962],\n",
            "        [0.4887, 0.1860, 0.9677],\n",
            "        [0.3307, 0.2415, 0.9935],\n",
            "        [0.4676, 0.2744, 0.9988],\n",
            "        [0.2202, 0.3567, 0.9324],\n",
            "        [0.5108, 0.4336, 0.9908],\n",
            "        [0.1793, 0.4412, 0.8594],\n",
            "        [0.5804, 0.5266, 0.9635],\n",
            "        [0.2588, 0.5000, 0.9994],\n",
            "        [0.3502, 0.5147, 0.9997],\n",
            "        [0.3410, 0.6605, 0.9988],\n",
            "        [0.4872, 0.6739, 0.9994],\n",
            "        [0.2590, 0.8495, 0.9854],\n",
            "        [0.4324, 0.8582, 0.9902]], device='cuda:0')\n"
          ]
        }
      ]
    },
    {
      "cell_type": "code",
      "source": [],
      "metadata": {
        "id": "kkVxAh06mnQ8"
      },
      "execution_count": null,
      "outputs": []
    }
  ]
}