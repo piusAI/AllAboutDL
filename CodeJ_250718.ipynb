{
  "nbformat": 4,
  "nbformat_minor": 0,
  "metadata": {
    "colab": {
      "provenance": [],
      "authorship_tag": "ABX9TyNCXumiWI1N4BcdXDf8oG5j",
      "include_colab_link": true
    },
    "kernelspec": {
      "name": "python3",
      "display_name": "Python 3"
    },
    "language_info": {
      "name": "python"
    }
  },
  "cells": [
    {
      "cell_type": "markdown",
      "metadata": {
        "id": "view-in-github",
        "colab_type": "text"
      },
      "source": [
        "<a href=\"https://colab.research.google.com/github/piusAI/AllAboutDL/blob/main/CodeJ_250718.ipynb\" target=\"_parent\"><img src=\"https://colab.research.google.com/assets/colab-badge.svg\" alt=\"Open In Colab\"/></a>"
      ]
    },
    {
      "cell_type": "markdown",
      "source": [
        "## cv2 constant"
      ],
      "metadata": {
        "id": "tQpSBUFipbez"
      }
    },
    {
      "cell_type": "code",
      "source": [
        "import cv2\n",
        "\n",
        "filepath='dataset/video/User01.mp4'\n",
        "cap=cv2.VideoCapture(filepath)\n",
        "\n",
        "if not cap.isOpened():\n",
        "    print('No Open : ', filepath)\n",
        "    exit(0)\n",
        "length = int(cap.get(cv2.CAP_PROP_FRAME_COUNT))\n",
        "width = int(cap.get(cv2.CAP_PROP_FRAME_WIDTH))\n",
        "height = int(cap.get(cv2.CAP_PROP_FRAME_HEIGHT))\n",
        "fps = int(cap.get(cv2.CAP_PROP_FPS))\n",
        "\n",
        "print(f'length :{length}')\n",
        "print(f'width : {width}')\n",
        "print(f'height : {height}')\n",
        "print(f'fps : {fps}')"
      ],
      "metadata": {
        "colab": {
          "base_uri": "https://localhost:8080/"
        },
        "id": "MMHDwLY_pbI7",
        "outputId": "1c82ad4e-9b81-4cdc-be00-ceccabe78289"
      },
      "execution_count": 3,
      "outputs": [
        {
          "output_type": "stream",
          "name": "stdout",
          "text": [
            "No Open :  dataset/video/User01.mp4\n",
            "length :0\n",
            "width : 0\n",
            "height : 0\n",
            "fps : 0\n"
          ]
        }
      ]
    },
    {
      "cell_type": "code",
      "execution_count": 1,
      "metadata": {
        "colab": {
          "base_uri": "https://localhost:8080/"
        },
        "id": "sqR7h7-4mv10",
        "outputId": "b95b02df-be4f-4474-f96f-17c0fa69951b"
      },
      "outputs": [
        {
          "output_type": "stream",
          "name": "stderr",
          "text": [
            "100%|██████████| 100/100 [00:10<00:00,  9.86it/s]\n"
          ]
        }
      ],
      "source": [
        "from tqdm import tqdm\n",
        "import time\n",
        "\n",
        "for i in tqdm(range(100)):\n",
        "  time.sleep(0.1)"
      ]
    },
    {
      "cell_type": "code",
      "source": [],
      "metadata": {
        "id": "IqLy3v9XvAMV"
      },
      "execution_count": null,
      "outputs": []
    }
  ]
}